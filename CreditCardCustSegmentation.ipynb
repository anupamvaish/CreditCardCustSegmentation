{
 "cells": [
  {
   "cell_type": "markdown",
   "metadata": {},
   "source": [
    "#### Background: AllLife Bank wants to focus on its credit card customer base in the next financial year. They have been advised by their marketing research team, that the penetration in the market can be improved. Based on this input, the Marketing team proposes to run personalised campaigns to target new customers as well as upsell to existing customers. Another insight from the market research was that the customers perceive the support services of the bank poorly. Based on this, the Operations team wants to upgrade the service delivery model, to ensure that customers queries are resolved faster. Head of Marketing and Head of Delivery both decide to reach out to the Data Science team for help"
   ]
  },
  {
   "cell_type": "markdown",
   "metadata": {},
   "source": [
    "#### Objective: To identify different segments in the existing customer based on their spending patterns as well as past interaction with the bank."
   ]
  },
  {
   "cell_type": "code",
   "execution_count": 1,
   "metadata": {},
   "outputs": [],
   "source": [
    "# Importing Libraries\n",
    "import numpy as np\n",
    "from scipy import stats\n",
    "from sklearn.linear_model import LinearRegression\n",
    "import pandas as pd    \n",
    "import matplotlib.pyplot as plt \n",
    "%matplotlib inline \n",
    "import seaborn as sns\n",
    "from sklearn.decomposition import PCA\n",
    "from scipy.stats import zscore\n",
    "import warnings\n",
    "warnings.filterwarnings('ignore')\n",
    "from sklearn.cluster import AgglomerativeClustering \n",
    "from scipy.cluster.hierarchy import cophenet, dendrogram, linkage\n",
    "from scipy.spatial.distance import pdist\n",
    "from scipy.spatial.distance import cdist\n",
    "from sklearn.cluster import KMeans\n",
    "from sklearn import metrics"
   ]
  },
  {
   "cell_type": "code",
   "execution_count": 2,
   "metadata": {},
   "outputs": [
    {
     "data": {
      "text/html": [
       "<div>\n",
       "<style scoped>\n",
       "    .dataframe tbody tr th:only-of-type {\n",
       "        vertical-align: middle;\n",
       "    }\n",
       "\n",
       "    .dataframe tbody tr th {\n",
       "        vertical-align: top;\n",
       "    }\n",
       "\n",
       "    .dataframe thead th {\n",
       "        text-align: right;\n",
       "    }\n",
       "</style>\n",
       "<table border=\"1\" class=\"dataframe\">\n",
       "  <thead>\n",
       "    <tr style=\"text-align: right;\">\n",
       "      <th></th>\n",
       "      <th>Sl_No</th>\n",
       "      <th>Customer Key</th>\n",
       "      <th>Avg_Credit_Limit</th>\n",
       "      <th>Total_Credit_Cards</th>\n",
       "      <th>Total_visits_bank</th>\n",
       "      <th>Total_visits_online</th>\n",
       "      <th>Total_calls_made</th>\n",
       "    </tr>\n",
       "  </thead>\n",
       "  <tbody>\n",
       "    <tr>\n",
       "      <th>0</th>\n",
       "      <td>1</td>\n",
       "      <td>87073</td>\n",
       "      <td>100000</td>\n",
       "      <td>2</td>\n",
       "      <td>1</td>\n",
       "      <td>1</td>\n",
       "      <td>0</td>\n",
       "    </tr>\n",
       "    <tr>\n",
       "      <th>1</th>\n",
       "      <td>2</td>\n",
       "      <td>38414</td>\n",
       "      <td>50000</td>\n",
       "      <td>3</td>\n",
       "      <td>0</td>\n",
       "      <td>10</td>\n",
       "      <td>9</td>\n",
       "    </tr>\n",
       "    <tr>\n",
       "      <th>2</th>\n",
       "      <td>3</td>\n",
       "      <td>17341</td>\n",
       "      <td>50000</td>\n",
       "      <td>7</td>\n",
       "      <td>1</td>\n",
       "      <td>3</td>\n",
       "      <td>4</td>\n",
       "    </tr>\n",
       "    <tr>\n",
       "      <th>3</th>\n",
       "      <td>4</td>\n",
       "      <td>40496</td>\n",
       "      <td>30000</td>\n",
       "      <td>5</td>\n",
       "      <td>1</td>\n",
       "      <td>1</td>\n",
       "      <td>4</td>\n",
       "    </tr>\n",
       "    <tr>\n",
       "      <th>4</th>\n",
       "      <td>5</td>\n",
       "      <td>47437</td>\n",
       "      <td>100000</td>\n",
       "      <td>6</td>\n",
       "      <td>0</td>\n",
       "      <td>12</td>\n",
       "      <td>3</td>\n",
       "    </tr>\n",
       "    <tr>\n",
       "      <th>...</th>\n",
       "      <td>...</td>\n",
       "      <td>...</td>\n",
       "      <td>...</td>\n",
       "      <td>...</td>\n",
       "      <td>...</td>\n",
       "      <td>...</td>\n",
       "      <td>...</td>\n",
       "    </tr>\n",
       "    <tr>\n",
       "      <th>655</th>\n",
       "      <td>656</td>\n",
       "      <td>51108</td>\n",
       "      <td>99000</td>\n",
       "      <td>10</td>\n",
       "      <td>1</td>\n",
       "      <td>10</td>\n",
       "      <td>0</td>\n",
       "    </tr>\n",
       "    <tr>\n",
       "      <th>656</th>\n",
       "      <td>657</td>\n",
       "      <td>60732</td>\n",
       "      <td>84000</td>\n",
       "      <td>10</td>\n",
       "      <td>1</td>\n",
       "      <td>13</td>\n",
       "      <td>2</td>\n",
       "    </tr>\n",
       "    <tr>\n",
       "      <th>657</th>\n",
       "      <td>658</td>\n",
       "      <td>53834</td>\n",
       "      <td>145000</td>\n",
       "      <td>8</td>\n",
       "      <td>1</td>\n",
       "      <td>9</td>\n",
       "      <td>1</td>\n",
       "    </tr>\n",
       "    <tr>\n",
       "      <th>658</th>\n",
       "      <td>659</td>\n",
       "      <td>80655</td>\n",
       "      <td>172000</td>\n",
       "      <td>10</td>\n",
       "      <td>1</td>\n",
       "      <td>15</td>\n",
       "      <td>0</td>\n",
       "    </tr>\n",
       "    <tr>\n",
       "      <th>659</th>\n",
       "      <td>660</td>\n",
       "      <td>80150</td>\n",
       "      <td>167000</td>\n",
       "      <td>9</td>\n",
       "      <td>0</td>\n",
       "      <td>12</td>\n",
       "      <td>2</td>\n",
       "    </tr>\n",
       "  </tbody>\n",
       "</table>\n",
       "<p>660 rows × 7 columns</p>\n",
       "</div>"
      ],
      "text/plain": [
       "     Sl_No  Customer Key  Avg_Credit_Limit  Total_Credit_Cards  \\\n",
       "0        1         87073            100000                   2   \n",
       "1        2         38414             50000                   3   \n",
       "2        3         17341             50000                   7   \n",
       "3        4         40496             30000                   5   \n",
       "4        5         47437            100000                   6   \n",
       "..     ...           ...               ...                 ...   \n",
       "655    656         51108             99000                  10   \n",
       "656    657         60732             84000                  10   \n",
       "657    658         53834            145000                   8   \n",
       "658    659         80655            172000                  10   \n",
       "659    660         80150            167000                   9   \n",
       "\n",
       "     Total_visits_bank  Total_visits_online  Total_calls_made  \n",
       "0                    1                    1                 0  \n",
       "1                    0                   10                 9  \n",
       "2                    1                    3                 4  \n",
       "3                    1                    1                 4  \n",
       "4                    0                   12                 3  \n",
       "..                 ...                  ...               ...  \n",
       "655                  1                   10                 0  \n",
       "656                  1                   13                 2  \n",
       "657                  1                    9                 1  \n",
       "658                  1                   15                 0  \n",
       "659                  0                   12                 2  \n",
       "\n",
       "[660 rows x 7 columns]"
      ]
     },
     "execution_count": 2,
     "metadata": {},
     "output_type": "execute_result"
    }
   ],
   "source": [
    "# Reading Dataset from Excel File\n",
    "ccd=pd.read_excel(\"CreditCardCustomerData.xlsx\")\n",
    "ccd"
   ]
  },
  {
   "cell_type": "code",
   "execution_count": 3,
   "metadata": {},
   "outputs": [
    {
     "name": "stdout",
     "output_type": "stream",
     "text": [
      "Duplicate size-- (0, 7)\n"
     ]
    },
    {
     "data": {
      "text/html": [
       "<div>\n",
       "<style scoped>\n",
       "    .dataframe tbody tr th:only-of-type {\n",
       "        vertical-align: middle;\n",
       "    }\n",
       "\n",
       "    .dataframe tbody tr th {\n",
       "        vertical-align: top;\n",
       "    }\n",
       "\n",
       "    .dataframe thead th {\n",
       "        text-align: right;\n",
       "    }\n",
       "</style>\n",
       "<table border=\"1\" class=\"dataframe\">\n",
       "  <thead>\n",
       "    <tr style=\"text-align: right;\">\n",
       "      <th></th>\n",
       "      <th>Sl_No</th>\n",
       "      <th>Customer Key</th>\n",
       "      <th>Avg_Credit_Limit</th>\n",
       "      <th>Total_Credit_Cards</th>\n",
       "      <th>Total_visits_bank</th>\n",
       "      <th>Total_visits_online</th>\n",
       "      <th>Total_calls_made</th>\n",
       "    </tr>\n",
       "  </thead>\n",
       "  <tbody>\n",
       "  </tbody>\n",
       "</table>\n",
       "</div>"
      ],
      "text/plain": [
       "Empty DataFrame\n",
       "Columns: [Sl_No, Customer Key, Avg_Credit_Limit, Total_Credit_Cards, Total_visits_bank, Total_visits_online, Total_calls_made]\n",
       "Index: []"
      ]
     },
     "execution_count": 3,
     "metadata": {},
     "output_type": "execute_result"
    }
   ],
   "source": [
    "## Checking Duplicates\n",
    "dup_df=ccd[ccd.duplicated(keep='first')]\n",
    "print(\"Duplicate size--\",dup_df.shape)\n",
    "dup_df"
   ]
  },
  {
   "cell_type": "markdown",
   "metadata": {},
   "source": [
    "### Observation:\n",
    "No Duplicates for complete row were found in the dataset"
   ]
  },
  {
   "cell_type": "code",
   "execution_count": 4,
   "metadata": {},
   "outputs": [
    {
     "name": "stdout",
     "output_type": "stream",
     "text": [
      "     Sl_No  Customer Key  Avg_Credit_Limit  Total_Credit_Cards  \\\n",
      "4        5         47437            100000                   6   \n",
      "332    333         47437             17000                   7   \n",
      "\n",
      "     Total_visits_bank  Total_visits_online  Total_calls_made  \n",
      "4                    0                   12                 3  \n",
      "332                  3                    1                 0  \n",
      "     Sl_No  Customer Key  Avg_Credit_Limit  Total_Credit_Cards  \\\n",
      "391    392         96929             13000                   4   \n",
      "398    399         96929             67000                   6   \n",
      "\n",
      "     Total_visits_bank  Total_visits_online  Total_calls_made  \n",
      "391                  5                    0                 0  \n",
      "398                  2                    2                 2  \n",
      "     Sl_No  Customer Key  Avg_Credit_Limit  Total_Credit_Cards  \\\n",
      "48      49         37252              6000                   4   \n",
      "432    433         37252             59000                   6   \n",
      "\n",
      "     Total_visits_bank  Total_visits_online  Total_calls_made  \n",
      "48                   0                    2                 8  \n",
      "432                  2                    1                 2  \n",
      "     Sl_No  Customer Key  Avg_Credit_Limit  Total_Credit_Cards  \\\n",
      "411    412         50706             44000                   4   \n",
      "541    542         50706             60000                   7   \n",
      "\n",
      "     Total_visits_bank  Total_visits_online  Total_calls_made  \n",
      "411                  5                    0                 2  \n",
      "541                  5                    2                 2  \n",
      "     Sl_No  Customer Key  Avg_Credit_Limit  Total_Credit_Cards  \\\n",
      "104    105         97935             17000                   2   \n",
      "632    633         97935            187000                   7   \n",
      "\n",
      "     Total_visits_bank  Total_visits_online  Total_calls_made  \n",
      "104                  1                    2                10  \n",
      "632                  1                    7                 0  \n"
     ]
    }
   ],
   "source": [
    "# Finding duplicates in Customer Key\n",
    "list=np.array(ccd['Customer Key'][ccd.duplicated(['Customer Key'])])\n",
    "#print(list)\n",
    "for i in list:\n",
    "    print(pd.DataFrame(ccd[ccd['Customer Key']==i]))"
   ]
  },
  {
   "cell_type": "markdown",
   "metadata": {},
   "source": [
    "#### Observation: \n",
    "Since only Customer Key is duplicated and not data, so nelecting this error as we would be dropping Customer Key"
   ]
  },
  {
   "cell_type": "code",
   "execution_count": 5,
   "metadata": {},
   "outputs": [
    {
     "name": "stdout",
     "output_type": "stream",
     "text": [
      "*******************Number of nulls*********************\n",
      "Sl_No                  0\n",
      "Customer Key           0\n",
      "Avg_Credit_Limit       0\n",
      "Total_Credit_Cards     0\n",
      "Total_visits_bank      0\n",
      "Total_visits_online    0\n",
      "Total_calls_made       0\n",
      "dtype: int64\n",
      "*******************Bank Shape***********************\n",
      "(660, 7)\n",
      "*******************Bank Info************************\n",
      "<class 'pandas.core.frame.DataFrame'>\n",
      "RangeIndex: 660 entries, 0 to 659\n",
      "Data columns (total 7 columns):\n",
      "Sl_No                  660 non-null int64\n",
      "Customer Key           660 non-null int64\n",
      "Avg_Credit_Limit       660 non-null int64\n",
      "Total_Credit_Cards     660 non-null int64\n",
      "Total_visits_bank      660 non-null int64\n",
      "Total_visits_online    660 non-null int64\n",
      "Total_calls_made       660 non-null int64\n",
      "dtypes: int64(7)\n",
      "memory usage: 36.2 KB\n",
      "None\n",
      "*******************************************************\n"
     ]
    }
   ],
   "source": [
    "print('*******************Number of nulls*********************')\n",
    "print(ccd.isnull().sum())\n",
    "print('*******************Bank Shape***********************')\n",
    "print(ccd.shape)\n",
    "print('*******************Bank Info************************')\n",
    "print(ccd.info())\n",
    "print('*******************************************************')"
   ]
  },
  {
   "cell_type": "markdown",
   "metadata": {},
   "source": [
    "### Observation\n",
    "1. No Nulls found in the dataset\n",
    "2. Dataset has 660 rows and 7 columns\n",
    "3. All columns are continous variables with column datatype as int64"
   ]
  },
  {
   "cell_type": "code",
   "execution_count": 6,
   "metadata": {},
   "outputs": [
    {
     "data": {
      "text/plain": [
       "Sl_No                  660\n",
       "Customer Key           655\n",
       "Avg_Credit_Limit       110\n",
       "Total_Credit_Cards      10\n",
       "Total_visits_bank        6\n",
       "Total_visits_online     16\n",
       "Total_calls_made        11\n",
       "dtype: int64"
      ]
     },
     "execution_count": 6,
     "metadata": {},
     "output_type": "execute_result"
    }
   ],
   "source": [
    "# No of uniques per column\n",
    "ccd.nunique()"
   ]
  },
  {
   "cell_type": "code",
   "execution_count": 7,
   "metadata": {},
   "outputs": [
    {
     "data": {
      "text/html": [
       "<div>\n",
       "<style scoped>\n",
       "    .dataframe tbody tr th:only-of-type {\n",
       "        vertical-align: middle;\n",
       "    }\n",
       "\n",
       "    .dataframe tbody tr th {\n",
       "        vertical-align: top;\n",
       "    }\n",
       "\n",
       "    .dataframe thead th {\n",
       "        text-align: right;\n",
       "    }\n",
       "</style>\n",
       "<table border=\"1\" class=\"dataframe\">\n",
       "  <thead>\n",
       "    <tr style=\"text-align: right;\">\n",
       "      <th></th>\n",
       "      <th>Avg_Credit_Limit</th>\n",
       "      <th>Total_Credit_Cards</th>\n",
       "      <th>Total_visits_bank</th>\n",
       "      <th>Total_visits_online</th>\n",
       "      <th>Total_calls_made</th>\n",
       "    </tr>\n",
       "  </thead>\n",
       "  <tbody>\n",
       "    <tr>\n",
       "      <th>0</th>\n",
       "      <td>100000</td>\n",
       "      <td>2</td>\n",
       "      <td>1</td>\n",
       "      <td>1</td>\n",
       "      <td>0</td>\n",
       "    </tr>\n",
       "    <tr>\n",
       "      <th>1</th>\n",
       "      <td>50000</td>\n",
       "      <td>3</td>\n",
       "      <td>0</td>\n",
       "      <td>10</td>\n",
       "      <td>9</td>\n",
       "    </tr>\n",
       "    <tr>\n",
       "      <th>2</th>\n",
       "      <td>50000</td>\n",
       "      <td>7</td>\n",
       "      <td>1</td>\n",
       "      <td>3</td>\n",
       "      <td>4</td>\n",
       "    </tr>\n",
       "    <tr>\n",
       "      <th>3</th>\n",
       "      <td>30000</td>\n",
       "      <td>5</td>\n",
       "      <td>1</td>\n",
       "      <td>1</td>\n",
       "      <td>4</td>\n",
       "    </tr>\n",
       "    <tr>\n",
       "      <th>4</th>\n",
       "      <td>100000</td>\n",
       "      <td>6</td>\n",
       "      <td>0</td>\n",
       "      <td>12</td>\n",
       "      <td>3</td>\n",
       "    </tr>\n",
       "    <tr>\n",
       "      <th>...</th>\n",
       "      <td>...</td>\n",
       "      <td>...</td>\n",
       "      <td>...</td>\n",
       "      <td>...</td>\n",
       "      <td>...</td>\n",
       "    </tr>\n",
       "    <tr>\n",
       "      <th>655</th>\n",
       "      <td>99000</td>\n",
       "      <td>10</td>\n",
       "      <td>1</td>\n",
       "      <td>10</td>\n",
       "      <td>0</td>\n",
       "    </tr>\n",
       "    <tr>\n",
       "      <th>656</th>\n",
       "      <td>84000</td>\n",
       "      <td>10</td>\n",
       "      <td>1</td>\n",
       "      <td>13</td>\n",
       "      <td>2</td>\n",
       "    </tr>\n",
       "    <tr>\n",
       "      <th>657</th>\n",
       "      <td>145000</td>\n",
       "      <td>8</td>\n",
       "      <td>1</td>\n",
       "      <td>9</td>\n",
       "      <td>1</td>\n",
       "    </tr>\n",
       "    <tr>\n",
       "      <th>658</th>\n",
       "      <td>172000</td>\n",
       "      <td>10</td>\n",
       "      <td>1</td>\n",
       "      <td>15</td>\n",
       "      <td>0</td>\n",
       "    </tr>\n",
       "    <tr>\n",
       "      <th>659</th>\n",
       "      <td>167000</td>\n",
       "      <td>9</td>\n",
       "      <td>0</td>\n",
       "      <td>12</td>\n",
       "      <td>2</td>\n",
       "    </tr>\n",
       "  </tbody>\n",
       "</table>\n",
       "<p>660 rows × 5 columns</p>\n",
       "</div>"
      ],
      "text/plain": [
       "     Avg_Credit_Limit  Total_Credit_Cards  Total_visits_bank  \\\n",
       "0              100000                   2                  1   \n",
       "1               50000                   3                  0   \n",
       "2               50000                   7                  1   \n",
       "3               30000                   5                  1   \n",
       "4              100000                   6                  0   \n",
       "..                ...                 ...                ...   \n",
       "655             99000                  10                  1   \n",
       "656             84000                  10                  1   \n",
       "657            145000                   8                  1   \n",
       "658            172000                  10                  1   \n",
       "659            167000                   9                  0   \n",
       "\n",
       "     Total_visits_online  Total_calls_made  \n",
       "0                      1                 0  \n",
       "1                     10                 9  \n",
       "2                      3                 4  \n",
       "3                      1                 4  \n",
       "4                     12                 3  \n",
       "..                   ...               ...  \n",
       "655                   10                 0  \n",
       "656                   13                 2  \n",
       "657                    9                 1  \n",
       "658                   15                 0  \n",
       "659                   12                 2  \n",
       "\n",
       "[660 rows x 5 columns]"
      ]
     },
     "execution_count": 7,
     "metadata": {},
     "output_type": "execute_result"
    }
   ],
   "source": [
    "# Making a new DF without Customer Key and Serial No, i.e with Data Attributes\n",
    "ccd_DA=ccd.iloc[:,2:]\n",
    "ccd_DA"
   ]
  },
  {
   "cell_type": "code",
   "execution_count": 8,
   "metadata": {},
   "outputs": [
    {
     "data": {
      "text/html": [
       "<div>\n",
       "<style scoped>\n",
       "    .dataframe tbody tr th:only-of-type {\n",
       "        vertical-align: middle;\n",
       "    }\n",
       "\n",
       "    .dataframe tbody tr th {\n",
       "        vertical-align: top;\n",
       "    }\n",
       "\n",
       "    .dataframe thead th {\n",
       "        text-align: right;\n",
       "    }\n",
       "</style>\n",
       "<table border=\"1\" class=\"dataframe\">\n",
       "  <thead>\n",
       "    <tr style=\"text-align: right;\">\n",
       "      <th></th>\n",
       "      <th>Avg_Credit_Limit</th>\n",
       "      <th>Total_Credit_Cards</th>\n",
       "      <th>Total_visits_bank</th>\n",
       "      <th>Total_visits_online</th>\n",
       "      <th>Total_calls_made</th>\n",
       "    </tr>\n",
       "  </thead>\n",
       "  <tbody>\n",
       "    <tr>\n",
       "      <th>count</th>\n",
       "      <td>660.000000</td>\n",
       "      <td>660.000000</td>\n",
       "      <td>660.000000</td>\n",
       "      <td>660.000000</td>\n",
       "      <td>660.000000</td>\n",
       "    </tr>\n",
       "    <tr>\n",
       "      <th>mean</th>\n",
       "      <td>34574.242424</td>\n",
       "      <td>4.706061</td>\n",
       "      <td>2.403030</td>\n",
       "      <td>2.606061</td>\n",
       "      <td>3.583333</td>\n",
       "    </tr>\n",
       "    <tr>\n",
       "      <th>std</th>\n",
       "      <td>37625.487804</td>\n",
       "      <td>2.167835</td>\n",
       "      <td>1.631813</td>\n",
       "      <td>2.935724</td>\n",
       "      <td>2.865317</td>\n",
       "    </tr>\n",
       "    <tr>\n",
       "      <th>min</th>\n",
       "      <td>3000.000000</td>\n",
       "      <td>1.000000</td>\n",
       "      <td>0.000000</td>\n",
       "      <td>0.000000</td>\n",
       "      <td>0.000000</td>\n",
       "    </tr>\n",
       "    <tr>\n",
       "      <th>25%</th>\n",
       "      <td>10000.000000</td>\n",
       "      <td>3.000000</td>\n",
       "      <td>1.000000</td>\n",
       "      <td>1.000000</td>\n",
       "      <td>1.000000</td>\n",
       "    </tr>\n",
       "    <tr>\n",
       "      <th>50%</th>\n",
       "      <td>18000.000000</td>\n",
       "      <td>5.000000</td>\n",
       "      <td>2.000000</td>\n",
       "      <td>2.000000</td>\n",
       "      <td>3.000000</td>\n",
       "    </tr>\n",
       "    <tr>\n",
       "      <th>75%</th>\n",
       "      <td>48000.000000</td>\n",
       "      <td>6.000000</td>\n",
       "      <td>4.000000</td>\n",
       "      <td>4.000000</td>\n",
       "      <td>5.000000</td>\n",
       "    </tr>\n",
       "    <tr>\n",
       "      <th>max</th>\n",
       "      <td>200000.000000</td>\n",
       "      <td>10.000000</td>\n",
       "      <td>5.000000</td>\n",
       "      <td>15.000000</td>\n",
       "      <td>10.000000</td>\n",
       "    </tr>\n",
       "  </tbody>\n",
       "</table>\n",
       "</div>"
      ],
      "text/plain": [
       "       Avg_Credit_Limit  Total_Credit_Cards  Total_visits_bank  \\\n",
       "count        660.000000          660.000000         660.000000   \n",
       "mean       34574.242424            4.706061           2.403030   \n",
       "std        37625.487804            2.167835           1.631813   \n",
       "min         3000.000000            1.000000           0.000000   \n",
       "25%        10000.000000            3.000000           1.000000   \n",
       "50%        18000.000000            5.000000           2.000000   \n",
       "75%        48000.000000            6.000000           4.000000   \n",
       "max       200000.000000           10.000000           5.000000   \n",
       "\n",
       "       Total_visits_online  Total_calls_made  \n",
       "count           660.000000        660.000000  \n",
       "mean              2.606061          3.583333  \n",
       "std               2.935724          2.865317  \n",
       "min               0.000000          0.000000  \n",
       "25%               1.000000          1.000000  \n",
       "50%               2.000000          3.000000  \n",
       "75%               4.000000          5.000000  \n",
       "max              15.000000         10.000000  "
      ]
     },
     "execution_count": 8,
     "metadata": {},
     "output_type": "execute_result"
    }
   ],
   "source": [
    "ccd_DA.describe()"
   ]
  },
  {
   "cell_type": "markdown",
   "metadata": {},
   "source": [
    "### Observations:\n",
    "1. Avg_Credit_Limit has mean of $34574.24 with Std Dev of 37625.48. It has min of 3000 and max of 200K, it is positively skewed.\n",
    "2. Total_Credit_Cards has mean of 4.7 with std dev of 2.16, It has min of 1 and max of 10.\n",
    "3. Total_visits_bank has mean of 2.4 with std dev of 1.63, It has min of 0 and max of 5.\n",
    "4. Total_visits_online has mean of 2.6 with std dev of 2.93, It has min of 0 and max of 15 and is positvely skewed.\n",
    "5. Total_calls_made has mean of 3.58 with std dev of 2.86, It has min of 0 and max of 10 and is positvely skewed."
   ]
  },
  {
   "cell_type": "code",
   "execution_count": 9,
   "metadata": {},
   "outputs": [
    {
     "name": "stdout",
     "output_type": "stream",
     "text": [
      "Column >> Avg_Credit_Limit\n",
      "8000      35\n",
      "6000      31\n",
      "9000      28\n",
      "13000     28\n",
      "10000     26\n",
      "          ..\n",
      "25000      1\n",
      "153000     1\n",
      "111000     1\n",
      "112000     1\n",
      "106000     1\n",
      "Name: Avg_Credit_Limit, Length: 110, dtype: int64\n",
      "Column >> Total_Credit_Cards\n",
      "4     151\n",
      "6     117\n",
      "7     101\n",
      "5      74\n",
      "2      64\n",
      "1      59\n",
      "3      53\n",
      "10     19\n",
      "9      11\n",
      "8      11\n",
      "Name: Total_Credit_Cards, dtype: int64\n",
      "Column >> Total_visits_bank\n",
      "2    158\n",
      "1    112\n",
      "3    100\n",
      "0    100\n",
      "5     98\n",
      "4     92\n",
      "Name: Total_visits_bank, dtype: int64\n",
      "Column >> Total_visits_online\n",
      "2     189\n",
      "0     144\n",
      "1     109\n",
      "4      69\n",
      "5      54\n",
      "3      44\n",
      "15     10\n",
      "7       7\n",
      "12      6\n",
      "10      6\n",
      "8       6\n",
      "13      5\n",
      "11      5\n",
      "9       4\n",
      "14      1\n",
      "6       1\n",
      "Name: Total_visits_online, dtype: int64\n",
      "Column >> Total_calls_made\n",
      "4     108\n",
      "0      97\n",
      "2      91\n",
      "1      90\n",
      "3      83\n",
      "6      39\n",
      "7      35\n",
      "9      32\n",
      "8      30\n",
      "5      29\n",
      "10     26\n",
      "Name: Total_calls_made, dtype: int64\n"
     ]
    }
   ],
   "source": [
    "# Checking for Value Counts\n",
    "for i in ccd_DA.columns:\n",
    "    print('Column >>',i)\n",
    "    print(ccd_DA[i].value_counts())"
   ]
  },
  {
   "cell_type": "code",
   "execution_count": 10,
   "metadata": {
    "scrolled": false
   },
   "outputs": [
    {
     "name": "stdout",
     "output_type": "stream",
     "text": [
      "Column >> Avg_Credit_Limit\n",
      "\tData Type >> int64\n",
      "\tSkewness is >> 2.202395623436587\n",
      "\tMin is >> 3000\n",
      "\tMax is >> 200000\n",
      "\tMean is >> 34574.242424242424\n",
      "\tMedian is >> 18000.0\n",
      "\tStd Dev is >> 37625.48780422165\n",
      "\tRange >> 197000\n",
      "\t25% quartile is >> 10000.0\n",
      "\t50% quartile is >> 18000.0\n",
      "\t75% quartile is >> 48000.0\n",
      "\tIQR is >> 38000.0\n",
      "Left Side Outliers >>\n",
      " Series([], Name: Avg_Credit_Limit, dtype: int64)\n",
      "Right Side Outliers>>\n",
      " 612    157000\n",
      "614    163000\n",
      "615    131000\n",
      "617    136000\n",
      "618    121000\n",
      "619    158000\n",
      "620    108000\n",
      "621    166000\n",
      "622    176000\n",
      "623    166000\n",
      "624    178000\n",
      "626    156000\n",
      "627    146000\n",
      "629    155000\n",
      "630    200000\n",
      "631    195000\n",
      "632    187000\n",
      "633    163000\n",
      "634    106000\n",
      "635    114000\n",
      "636    126000\n",
      "637    173000\n",
      "638    153000\n",
      "639    184000\n",
      "640    123000\n",
      "641    144000\n",
      "644    127000\n",
      "645    171000\n",
      "646    186000\n",
      "647    183000\n",
      "648    111000\n",
      "649    112000\n",
      "650    195000\n",
      "651    132000\n",
      "652    156000\n",
      "654    172000\n",
      "657    145000\n",
      "658    172000\n",
      "659    167000\n",
      "Name: Avg_Credit_Limit, dtype: int64\n"
     ]
    },
    {
     "data": {
      "image/png": "[encoded data removed]",
      "text/plain": [
       "<Figure size 936x360 with 2 Axes>"
      ]
     },
     "metadata": {
      "needs_background": "light"
     },
     "output_type": "display_data"
    },
    {
     "name": "stdout",
     "output_type": "stream",
     "text": [
      "Column >> Total_Credit_Cards\n",
      "\tData Type >> int64\n",
      "\tSkewness is >> 0.14487899029570606\n",
      "\tMin is >> 1\n",
      "\tMax is >> 10\n",
      "\tMean is >> 4.706060606060606\n",
      "\tMedian is >> 5.0\n",
      "\tStd Dev is >> 2.1678348595111934\n",
      "\tRange >> 9\n",
      "\t25% quartile is >> 3.0\n",
      "\t50% quartile is >> 5.0\n",
      "\t75% quartile is >> 6.0\n",
      "\tIQR is >> 3.0\n",
      "Left Side Outliers >>\n",
      " Series([], Name: Total_Credit_Cards, dtype: int64)\n",
      "Right Side Outliers>>\n",
      " Series([], Name: Total_Credit_Cards, dtype: int64)\n"
     ]
    },
    {
     "data": {
      "image/png": "[encoded data removed]",
      "text/plain": [
       "<Figure size 936x360 with 2 Axes>"
      ]
     },
     "metadata": {
      "needs_background": "light"
     },
     "output_type": "display_data"
    },
    {
     "name": "stdout",
     "output_type": "stream",
     "text": [
      "Column >> Total_visits_bank\n",
      "\tData Type >> int64\n",
      "\tSkewness is >> 0.14189601482438785\n",
      "\tMin is >> 0\n",
      "\tMax is >> 5\n",
      "\tMean is >> 2.403030303030303\n",
      "\tMedian is >> 2.0\n",
      "\tStd Dev is >> 1.6318128757916113\n",
      "\tRange >> 5\n",
      "\t25% quartile is >> 1.0\n",
      "\t50% quartile is >> 2.0\n",
      "\t75% quartile is >> 4.0\n",
      "\tIQR is >> 3.0\n",
      "Left Side Outliers >>\n",
      " Series([], Name: Total_visits_bank, dtype: int64)\n",
      "Right Side Outliers>>\n",
      " Series([], Name: Total_visits_bank, dtype: int64)\n"
     ]
    },
    {
     "data": {
      "image/png": "[encoded data removed]",
      "text/plain": [
       "<Figure size 936x360 with 2 Axes>"
      ]
     },
     "metadata": {
      "needs_background": "light"
     },
     "output_type": "display_data"
    },
    {
     "name": "stdout",
     "output_type": "stream",
     "text": [
      "Column >> Total_visits_online\n",
      "\tData Type >> int64\n",
      "\tSkewness is >> 2.2256067138726565\n",
      "\tMin is >> 0\n",
      "\tMax is >> 15\n",
      "\tMean is >> 2.606060606060606\n",
      "\tMedian is >> 2.0\n",
      "\tStd Dev is >> 2.9357241204935414\n",
      "\tRange >> 15\n",
      "\t25% quartile is >> 1.0\n",
      "\t50% quartile is >> 2.0\n",
      "\t75% quartile is >> 4.0\n",
      "\tIQR is >> 3.0\n",
      "Left Side Outliers >>\n",
      " Series([], Name: Total_visits_online, dtype: int64)\n",
      "Right Side Outliers>>\n",
      " 1      10\n",
      "4      12\n",
      "6      11\n",
      "612    14\n",
      "613    11\n",
      "615    10\n",
      "616    11\n",
      "617    13\n",
      "618    13\n",
      "619    13\n",
      "620    15\n",
      "621    12\n",
      "622    15\n",
      "624    11\n",
      "626    10\n",
      "627    12\n",
      "628    15\n",
      "630    13\n",
      "631    15\n",
      "633    10\n",
      "637    11\n",
      "639    15\n",
      "640    15\n",
      "641    10\n",
      "642     9\n",
      "644    15\n",
      "645    15\n",
      "647     9\n",
      "650    12\n",
      "651    12\n",
      "653    15\n",
      "654     9\n",
      "655    10\n",
      "656    13\n",
      "657     9\n",
      "658    15\n",
      "659    12\n",
      "Name: Total_visits_online, dtype: int64\n"
     ]
    },
    {
     "data": {
      "image/png": "[encoded data removed]",
      "text/plain": [
       "<Figure size 936x360 with 2 Axes>"
      ]
     },
     "metadata": {
      "needs_background": "light"
     },
     "output_type": "display_data"
    },
    {
     "name": "stdout",
     "output_type": "stream",
     "text": [
      "Column >> Total_calls_made\n",
      "\tData Type >> int64\n",
      "\tSkewness is >> 0.6589053024181467\n",
      "\tMin is >> 0\n",
      "\tMax is >> 10\n",
      "\tMean is >> 3.5833333333333335\n",
      "\tMedian is >> 3.0\n",
      "\tStd Dev is >> 2.865316817622708\n",
      "\tRange >> 10\n",
      "\t25% quartile is >> 1.0\n",
      "\t50% quartile is >> 3.0\n",
      "\t75% quartile is >> 5.0\n",
      "\tIQR is >> 4.0\n",
      "Left Side Outliers >>\n",
      " Series([], Name: Total_calls_made, dtype: int64)\n",
      "Right Side Outliers>>\n",
      " Series([], Name: Total_calls_made, dtype: int64)\n"
     ]
    },
    {
     "data": {
      "image/png": "[encoded data removed]",
      "text/plain": [
       "<Figure size 936x360 with 2 Axes>"
      ]
     },
     "metadata": {
      "needs_background": "light"
     },
     "output_type": "display_data"
    }
   ],
   "source": [
    "# Univariate Analysis with Box plots and Dist plots\n",
    "for i in ccd_DA.columns:\n",
    "    print('Column >>',i)\n",
    "    print('\\tData Type >>', ccd_DA[i].dtype)\n",
    "    print('\\tSkewness is >>', ccd_DA[i].skew())\n",
    "    print('\\tMin is >>', ccd_DA[i].min())\n",
    "    print('\\tMax is >>', ccd_DA[i].max())\n",
    "    print('\\tMean is >>',ccd_DA[i].mean())\n",
    "    print('\\tMedian is >>',ccd_DA[i].median())\n",
    "    print('\\tStd Dev is >>',ccd_DA[i].std())\n",
    "    print('\\tRange >>',ccd_DA[i].max()-ccd_DA[i].min())\n",
    "    Q1=ccd_DA[i].quantile(q=.25)\n",
    "    Q3=ccd_DA[i].quantile(q=.75)\n",
    "    IQR=Q3-Q1\n",
    "    print('\\t25% quartile is >>',Q1)\n",
    "    print('\\t50% quartile is >>',ccd_DA[i].quantile(q=.5))\n",
    "    print('\\t75% quartile is >>',Q3)\n",
    "    print('\\tIQR is >>',IQR)\n",
    "    Box_size=1.5*(IQR)\n",
    "    print(\"Left Side Outliers >>\\n\",ccd_DA[i][ccd_DA[i] <(Q1-Box_size)])\n",
    "    print(\"Right Side Outliers>>\\n\",ccd_DA[i][ccd_DA[i] >(Q3+Box_size)])\n",
    "    fig, (ax1,ax2)=plt.subplots(1,2,figsize=(13,5))\n",
    "    sns.boxplot(x=ccd_DA[i],ax=ax1)\n",
    "    sns.distplot(ccd_DA[i],ax=ax2)\n",
    "    plt.show()"
   ]
  },
  {
   "cell_type": "markdown",
   "metadata": {},
   "source": [
    "### Observations:\n",
    "1. Avg_Credit_Limit has outliers on the right side, the max provided Credit limit lies in the range of 3000 to 18000\n",
    "2. Total_Credit_Cards has no outliers and most people have Credit cards in the range of 3-4\n",
    "3. Total_visits_bank has no outliers and most people visited in the range of 2-3 times\n",
    "4. Total_visits_online has outlers on the right side, most people visited bank online in the range of 0 - 2 times.\n",
    "5. Total_calls_made has no outliers and most people called 0 - 4 times."
   ]
  },
  {
   "cell_type": "code",
   "execution_count": 11,
   "metadata": {},
   "outputs": [
    {
     "data": {
      "text/html": [
       "<div>\n",
       "<style scoped>\n",
       "    .dataframe tbody tr th:only-of-type {\n",
       "        vertical-align: middle;\n",
       "    }\n",
       "\n",
       "    .dataframe tbody tr th {\n",
       "        vertical-align: top;\n",
       "    }\n",
       "\n",
       "    .dataframe thead th {\n",
       "        text-align: right;\n",
       "    }\n",
       "</style>\n",
       "<table border=\"1\" class=\"dataframe\">\n",
       "  <thead>\n",
       "    <tr style=\"text-align: right;\">\n",
       "      <th></th>\n",
       "      <th>Avg_Credit_Limit</th>\n",
       "      <th>Total_Credit_Cards</th>\n",
       "      <th>Total_visits_bank</th>\n",
       "      <th>Total_visits_online</th>\n",
       "      <th>Total_calls_made</th>\n",
       "    </tr>\n",
       "  </thead>\n",
       "  <tbody>\n",
       "    <tr>\n",
       "      <th>0</th>\n",
       "      <td>1.740187</td>\n",
       "      <td>-1.249225</td>\n",
       "      <td>-0.860451</td>\n",
       "      <td>-0.547490</td>\n",
       "      <td>-1.251537</td>\n",
       "    </tr>\n",
       "    <tr>\n",
       "      <th>1</th>\n",
       "      <td>0.410293</td>\n",
       "      <td>-0.787585</td>\n",
       "      <td>-1.473731</td>\n",
       "      <td>2.520519</td>\n",
       "      <td>1.891859</td>\n",
       "    </tr>\n",
       "    <tr>\n",
       "      <th>2</th>\n",
       "      <td>0.410293</td>\n",
       "      <td>1.058973</td>\n",
       "      <td>-0.860451</td>\n",
       "      <td>0.134290</td>\n",
       "      <td>0.145528</td>\n",
       "    </tr>\n",
       "    <tr>\n",
       "      <th>3</th>\n",
       "      <td>-0.121665</td>\n",
       "      <td>0.135694</td>\n",
       "      <td>-0.860451</td>\n",
       "      <td>-0.547490</td>\n",
       "      <td>0.145528</td>\n",
       "    </tr>\n",
       "    <tr>\n",
       "      <th>4</th>\n",
       "      <td>1.740187</td>\n",
       "      <td>0.597334</td>\n",
       "      <td>-1.473731</td>\n",
       "      <td>3.202298</td>\n",
       "      <td>-0.203739</td>\n",
       "    </tr>\n",
       "    <tr>\n",
       "      <th>...</th>\n",
       "      <td>...</td>\n",
       "      <td>...</td>\n",
       "      <td>...</td>\n",
       "      <td>...</td>\n",
       "      <td>...</td>\n",
       "    </tr>\n",
       "    <tr>\n",
       "      <th>655</th>\n",
       "      <td>1.713589</td>\n",
       "      <td>2.443892</td>\n",
       "      <td>-0.860451</td>\n",
       "      <td>2.520519</td>\n",
       "      <td>-1.251537</td>\n",
       "    </tr>\n",
       "    <tr>\n",
       "      <th>656</th>\n",
       "      <td>1.314621</td>\n",
       "      <td>2.443892</td>\n",
       "      <td>-0.860451</td>\n",
       "      <td>3.543188</td>\n",
       "      <td>-0.553005</td>\n",
       "    </tr>\n",
       "    <tr>\n",
       "      <th>657</th>\n",
       "      <td>2.937092</td>\n",
       "      <td>1.520613</td>\n",
       "      <td>-0.860451</td>\n",
       "      <td>2.179629</td>\n",
       "      <td>-0.902271</td>\n",
       "    </tr>\n",
       "    <tr>\n",
       "      <th>658</th>\n",
       "      <td>3.655235</td>\n",
       "      <td>2.443892</td>\n",
       "      <td>-0.860451</td>\n",
       "      <td>4.224968</td>\n",
       "      <td>-1.251537</td>\n",
       "    </tr>\n",
       "    <tr>\n",
       "      <th>659</th>\n",
       "      <td>3.522245</td>\n",
       "      <td>1.982253</td>\n",
       "      <td>-1.473731</td>\n",
       "      <td>3.202298</td>\n",
       "      <td>-0.553005</td>\n",
       "    </tr>\n",
       "  </tbody>\n",
       "</table>\n",
       "<p>660 rows × 5 columns</p>\n",
       "</div>"
      ],
      "text/plain": [
       "     Avg_Credit_Limit  Total_Credit_Cards  Total_visits_bank  \\\n",
       "0            1.740187           -1.249225          -0.860451   \n",
       "1            0.410293           -0.787585          -1.473731   \n",
       "2            0.410293            1.058973          -0.860451   \n",
       "3           -0.121665            0.135694          -0.860451   \n",
       "4            1.740187            0.597334          -1.473731   \n",
       "..                ...                 ...                ...   \n",
       "655          1.713589            2.443892          -0.860451   \n",
       "656          1.314621            2.443892          -0.860451   \n",
       "657          2.937092            1.520613          -0.860451   \n",
       "658          3.655235            2.443892          -0.860451   \n",
       "659          3.522245            1.982253          -1.473731   \n",
       "\n",
       "     Total_visits_online  Total_calls_made  \n",
       "0              -0.547490         -1.251537  \n",
       "1               2.520519          1.891859  \n",
       "2               0.134290          0.145528  \n",
       "3              -0.547490          0.145528  \n",
       "4               3.202298         -0.203739  \n",
       "..                   ...               ...  \n",
       "655             2.520519         -1.251537  \n",
       "656             3.543188         -0.553005  \n",
       "657             2.179629         -0.902271  \n",
       "658             4.224968         -1.251537  \n",
       "659             3.202298         -0.553005  \n",
       "\n",
       "[660 rows x 5 columns]"
      ]
     },
     "execution_count": 11,
     "metadata": {},
     "output_type": "execute_result"
    }
   ],
   "source": [
    "# Scaling the Dataset\n",
    "ccd_scaled=ccd_DA.apply(zscore)\n",
    "ccd_scaled "
   ]
  },
  {
   "cell_type": "code",
   "execution_count": 12,
   "metadata": {},
   "outputs": [
    {
     "data": {
      "text/plain": [
       "<seaborn.axisgrid.PairGrid at 0x7f9877633a30>"
      ]
     },
     "execution_count": 12,
     "metadata": {},
     "output_type": "execute_result"
    },
    {
     "data": {
      "image/png": "[encoded data removed]",
      "text/plain": [
       "<Figure size 900x900 with 30 Axes>"
      ]
     },
     "metadata": {
      "needs_background": "light"
     },
     "output_type": "display_data"
    }
   ],
   "source": [
    "sns.pairplot(ccd_scaled, diag_kind='kde')"
   ]
  },
  {
   "cell_type": "code",
   "execution_count": 13,
   "metadata": {},
   "outputs": [
    {
     "data": {
      "text/plain": [
       "<matplotlib.axes._subplots.AxesSubplot at 0x7f98785c1430>"
      ]
     },
     "execution_count": 13,
     "metadata": {},
     "output_type": "execute_result"
    },
    {
     "data": {
      "image/png": "[encoded data removed]",
      "text/plain": [
       "<Figure size 432x288 with 2 Axes>"
      ]
     },
     "metadata": {
      "needs_background": "light"
     },
     "output_type": "display_data"
    }
   ],
   "source": [
    "# Getting Correlation\n",
    "sns.heatmap(ccd_scaled.corr(),annot=True,linewidths=.1,center=0,cmap=\"YlGnBu\")"
   ]
  },
  {
   "cell_type": "markdown",
   "metadata": {},
   "source": [
    "### Observations:\n",
    "1. Avg_Credit_Limit has positive correlation with Total_Credit_Cards and Total_visits_online and negative corralation with Total_calls_made. Looks like to have 4 clusters\n",
    "2. Total_Credit_Cards has positive correlation with Avg_Credit_Limit and negative corralation with Total_calls_made. It has 4 peaks.\n",
    "3. Total_visits_bank is negatively correlated with Total_visits_online and Total_calls_made. It has 4 peaks.\n",
    "4. Total_visits_online has positive correlation with Avg_Credit_Limit and negative corralation with Total_visits_bank. It has 4 peaks.\n",
    "5. Total_calls_made has negative corralation with Avg_Credit_Limit, Total_Credit_Cards and Total_visits_bank. It has 3 peaks, so 3 clusters."
   ]
  },
  {
   "cell_type": "markdown",
   "metadata": {},
   "source": [
    "### K Means Clustering\n"
   ]
  },
  {
   "cell_type": "code",
   "execution_count": 14,
   "metadata": {},
   "outputs": [
    {
     "data": {
      "text/plain": [
       "Text(0.5, 1.0, 'Selecting k with the Elbow Method')"
      ]
     },
     "execution_count": 14,
     "metadata": {},
     "output_type": "execute_result"
    },
    {
     "data": {
      "image/png": "[encoded data removed]",
      "text/plain": [
       "<Figure size 432x288 with 1 Axes>"
      ]
     },
     "metadata": {
      "needs_background": "light"
     },
     "output_type": "display_data"
    }
   ],
   "source": [
    "#Finding optimal no. of clusters\n",
    "\n",
    "clusters=range(1,10)\n",
    "meanDistortions=[]\n",
    "\n",
    "\n",
    "for k in clusters:\n",
    "    model=KMeans(n_clusters=k)\n",
    "    model.fit(ccd_scaled)\n",
    "    prediction=model.predict(ccd_scaled)\n",
    "    meanDistortions.append(sum(np.min(cdist(ccd_scaled, model.cluster_centers_, 'euclidean'), axis=1)) / ccd_scaled.shape[0])\n",
    "\n",
    "    \n",
    "plt.plot(clusters, meanDistortions, 'bx-')\n",
    "plt.xlabel('k')\n",
    "plt.ylabel('Average distortion')\n",
    "plt.title('Selecting k with the Elbow Method')"
   ]
  },
  {
   "cell_type": "markdown",
   "metadata": {},
   "source": [
    "### Observation:\n",
    "Based on Elbow method,range for K means clustering is from 3 to 4  "
   ]
  },
  {
   "cell_type": "markdown",
   "metadata": {},
   "source": [
    "#### Kmeans 3"
   ]
  },
  {
   "cell_type": "code",
   "execution_count": 15,
   "metadata": {},
   "outputs": [],
   "source": [
    "# Making a copy of Dataset\n",
    "ccd_scaled_K3=ccd_scaled.copy()\n",
    "ccd_DA_K3=ccd_DA.copy()"
   ]
  },
  {
   "cell_type": "code",
   "execution_count": 16,
   "metadata": {},
   "outputs": [
    {
     "name": "stdout",
     "output_type": "stream",
     "text": [
      "Groups Assigned : \n",
      "\n"
     ]
    },
    {
     "data": {
      "text/html": [
       "<div>\n",
       "<style scoped>\n",
       "    .dataframe tbody tr th:only-of-type {\n",
       "        vertical-align: middle;\n",
       "    }\n",
       "\n",
       "    .dataframe tbody tr th {\n",
       "        vertical-align: top;\n",
       "    }\n",
       "\n",
       "    .dataframe thead th {\n",
       "        text-align: right;\n",
       "    }\n",
       "</style>\n",
       "<table border=\"1\" class=\"dataframe\">\n",
       "  <thead>\n",
       "    <tr style=\"text-align: right;\">\n",
       "      <th></th>\n",
       "      <th>Avg_Credit_Limit</th>\n",
       "      <th>Total_Credit_Cards</th>\n",
       "      <th>Total_visits_bank</th>\n",
       "      <th>Total_visits_online</th>\n",
       "      <th>Total_calls_made</th>\n",
       "      <th>GROUP</th>\n",
       "    </tr>\n",
       "  </thead>\n",
       "  <tbody>\n",
       "    <tr>\n",
       "      <th>0</th>\n",
       "      <td>100000</td>\n",
       "      <td>2</td>\n",
       "      <td>1</td>\n",
       "      <td>1</td>\n",
       "      <td>0</td>\n",
       "      <td>2</td>\n",
       "    </tr>\n",
       "    <tr>\n",
       "      <th>1</th>\n",
       "      <td>50000</td>\n",
       "      <td>3</td>\n",
       "      <td>0</td>\n",
       "      <td>10</td>\n",
       "      <td>9</td>\n",
       "      <td>0</td>\n",
       "    </tr>\n",
       "    <tr>\n",
       "      <th>2</th>\n",
       "      <td>50000</td>\n",
       "      <td>7</td>\n",
       "      <td>1</td>\n",
       "      <td>3</td>\n",
       "      <td>4</td>\n",
       "      <td>2</td>\n",
       "    </tr>\n",
       "    <tr>\n",
       "      <th>3</th>\n",
       "      <td>30000</td>\n",
       "      <td>5</td>\n",
       "      <td>1</td>\n",
       "      <td>1</td>\n",
       "      <td>4</td>\n",
       "      <td>2</td>\n",
       "    </tr>\n",
       "    <tr>\n",
       "      <th>4</th>\n",
       "      <td>100000</td>\n",
       "      <td>6</td>\n",
       "      <td>0</td>\n",
       "      <td>12</td>\n",
       "      <td>3</td>\n",
       "      <td>1</td>\n",
       "    </tr>\n",
       "    <tr>\n",
       "      <th>5</th>\n",
       "      <td>20000</td>\n",
       "      <td>3</td>\n",
       "      <td>0</td>\n",
       "      <td>1</td>\n",
       "      <td>8</td>\n",
       "      <td>0</td>\n",
       "    </tr>\n",
       "    <tr>\n",
       "      <th>6</th>\n",
       "      <td>100000</td>\n",
       "      <td>5</td>\n",
       "      <td>0</td>\n",
       "      <td>11</td>\n",
       "      <td>2</td>\n",
       "      <td>1</td>\n",
       "    </tr>\n",
       "    <tr>\n",
       "      <th>7</th>\n",
       "      <td>15000</td>\n",
       "      <td>3</td>\n",
       "      <td>0</td>\n",
       "      <td>1</td>\n",
       "      <td>1</td>\n",
       "      <td>0</td>\n",
       "    </tr>\n",
       "    <tr>\n",
       "      <th>8</th>\n",
       "      <td>5000</td>\n",
       "      <td>2</td>\n",
       "      <td>0</td>\n",
       "      <td>2</td>\n",
       "      <td>2</td>\n",
       "      <td>0</td>\n",
       "    </tr>\n",
       "    <tr>\n",
       "      <th>9</th>\n",
       "      <td>3000</td>\n",
       "      <td>4</td>\n",
       "      <td>0</td>\n",
       "      <td>1</td>\n",
       "      <td>7</td>\n",
       "      <td>0</td>\n",
       "    </tr>\n",
       "  </tbody>\n",
       "</table>\n",
       "</div>"
      ],
      "text/plain": [
       "   Avg_Credit_Limit  Total_Credit_Cards  Total_visits_bank  \\\n",
       "0            100000                   2                  1   \n",
       "1             50000                   3                  0   \n",
       "2             50000                   7                  1   \n",
       "3             30000                   5                  1   \n",
       "4            100000                   6                  0   \n",
       "5             20000                   3                  0   \n",
       "6            100000                   5                  0   \n",
       "7             15000                   3                  0   \n",
       "8              5000                   2                  0   \n",
       "9              3000                   4                  0   \n",
       "\n",
       "   Total_visits_online  Total_calls_made  GROUP  \n",
       "0                    1                 0      2  \n",
       "1                   10                 9      0  \n",
       "2                    3                 4      2  \n",
       "3                    1                 4      2  \n",
       "4                   12                 3      1  \n",
       "5                    1                 8      0  \n",
       "6                   11                 2      1  \n",
       "7                    1                 1      0  \n",
       "8                    2                 2      0  \n",
       "9                    1                 7      0  "
      ]
     },
     "execution_count": 16,
     "metadata": {},
     "output_type": "execute_result"
    }
   ],
   "source": [
    "# KMean with Cluster Value = 3\n",
    "final_model=KMeans(3)\n",
    "a=final_model.fit_transform(ccd_scaled_K3)\n",
    "prediction=final_model.predict(ccd_scaled_K3)\n",
    "\n",
    "# Silhoute_score\n",
    "score_3=metrics.silhouette_score(ccd_scaled_K3, prediction)\n",
    "\n",
    "#Append the prediction \n",
    "ccd_DA_K3[\"GROUP\"] = prediction\n",
    "ccd_scaled_K3[\"GROUP\"] = prediction\n",
    "print(\"Groups Assigned : \\n\")\n",
    "ccd_DA_K3.head(10)"
   ]
  },
  {
   "cell_type": "code",
   "execution_count": 17,
   "metadata": {},
   "outputs": [
    {
     "data": {
      "text/plain": [
       "0.5157182558881063"
      ]
     },
     "execution_count": 17,
     "metadata": {},
     "output_type": "execute_result"
    }
   ],
   "source": [
    "# Silhouette_score\n",
    "score_3"
   ]
  },
  {
   "cell_type": "code",
   "execution_count": 18,
   "metadata": {},
   "outputs": [
    {
     "data": {
      "text/html": [
       "<div>\n",
       "<style scoped>\n",
       "    .dataframe tbody tr th:only-of-type {\n",
       "        vertical-align: middle;\n",
       "    }\n",
       "\n",
       "    .dataframe tbody tr th {\n",
       "        vertical-align: top;\n",
       "    }\n",
       "\n",
       "    .dataframe thead th {\n",
       "        text-align: right;\n",
       "    }\n",
       "</style>\n",
       "<table border=\"1\" class=\"dataframe\">\n",
       "  <thead>\n",
       "    <tr style=\"text-align: right;\">\n",
       "      <th></th>\n",
       "      <th>Method</th>\n",
       "      <th>Silhouette Score</th>\n",
       "    </tr>\n",
       "  </thead>\n",
       "  <tbody>\n",
       "    <tr>\n",
       "      <th>0</th>\n",
       "      <td>K Means 3</td>\n",
       "      <td>0.515718</td>\n",
       "    </tr>\n",
       "  </tbody>\n",
       "</table>\n",
       "</div>"
      ],
      "text/plain": [
       "      Method  Silhouette Score\n",
       "0  K Means 3          0.515718"
      ]
     },
     "execution_count": 18,
     "metadata": {},
     "output_type": "execute_result"
    }
   ],
   "source": [
    "# Adding Silhouette score to the dataset\n",
    "SilScoreDf = pd.DataFrame({'Method':['K Means 3'], 'Silhouette Score': score_3})\n",
    "SilScoreDf"
   ]
  },
  {
   "cell_type": "code",
   "execution_count": 19,
   "metadata": {},
   "outputs": [
    {
     "data": {
      "text/plain": [
       "2    386\n",
       "0    224\n",
       "1     50\n",
       "Name: GROUP, dtype: int64"
      ]
     },
     "execution_count": 19,
     "metadata": {},
     "output_type": "execute_result"
    }
   ],
   "source": [
    "# Getting counts per cluster \n",
    "ccd_DA_K3[\"GROUP\"].value_counts()"
   ]
  },
  {
   "cell_type": "code",
   "execution_count": 20,
   "metadata": {},
   "outputs": [
    {
     "data": {
      "text/plain": [
       "<matplotlib.axes._subplots.AxesSubplot at 0x7f9878f343a0>"
      ]
     },
     "execution_count": 20,
     "metadata": {},
     "output_type": "execute_result"
    },
    {
     "data": {
      "image/png": "[encoded data removed]",
      "text/plain": [
       "<Figure size 1080x360 with 1 Axes>"
      ]
     },
     "metadata": {
      "needs_background": "light"
     },
     "output_type": "display_data"
    }
   ],
   "source": [
    "ccd_scaled_K3.groupby(['GROUP']).mean().plot.bar(figsize=(15, 5))"
   ]
  },
  {
   "cell_type": "code",
   "execution_count": 21,
   "metadata": {},
   "outputs": [
    {
     "data": {
      "text/html": [
       "<div>\n",
       "<style scoped>\n",
       "    .dataframe tbody tr th:only-of-type {\n",
       "        vertical-align: middle;\n",
       "    }\n",
       "\n",
       "    .dataframe tbody tr th {\n",
       "        vertical-align: top;\n",
       "    }\n",
       "\n",
       "    .dataframe thead th {\n",
       "        text-align: right;\n",
       "    }\n",
       "</style>\n",
       "<table border=\"1\" class=\"dataframe\">\n",
       "  <thead>\n",
       "    <tr style=\"text-align: right;\">\n",
       "      <th></th>\n",
       "      <th>Avg_Credit_Limit</th>\n",
       "      <th>Total_Credit_Cards</th>\n",
       "      <th>Total_visits_bank</th>\n",
       "      <th>Total_visits_online</th>\n",
       "      <th>Total_calls_made</th>\n",
       "    </tr>\n",
       "    <tr>\n",
       "      <th>GROUP</th>\n",
       "      <th></th>\n",
       "      <th></th>\n",
       "      <th></th>\n",
       "      <th></th>\n",
       "      <th></th>\n",
       "    </tr>\n",
       "  </thead>\n",
       "  <tbody>\n",
       "    <tr>\n",
       "      <th>0</th>\n",
       "      <td>12174.107143</td>\n",
       "      <td>2.410714</td>\n",
       "      <td>0.933036</td>\n",
       "      <td>3.553571</td>\n",
       "      <td>6.870536</td>\n",
       "    </tr>\n",
       "    <tr>\n",
       "      <th>1</th>\n",
       "      <td>141040.000000</td>\n",
       "      <td>8.740000</td>\n",
       "      <td>0.600000</td>\n",
       "      <td>10.900000</td>\n",
       "      <td>1.080000</td>\n",
       "    </tr>\n",
       "    <tr>\n",
       "      <th>2</th>\n",
       "      <td>33782.383420</td>\n",
       "      <td>5.515544</td>\n",
       "      <td>3.489637</td>\n",
       "      <td>0.981865</td>\n",
       "      <td>2.000000</td>\n",
       "    </tr>\n",
       "  </tbody>\n",
       "</table>\n",
       "</div>"
      ],
      "text/plain": [
       "       Avg_Credit_Limit  Total_Credit_Cards  Total_visits_bank  \\\n",
       "GROUP                                                            \n",
       "0          12174.107143            2.410714           0.933036   \n",
       "1         141040.000000            8.740000           0.600000   \n",
       "2          33782.383420            5.515544           3.489637   \n",
       "\n",
       "       Total_visits_online  Total_calls_made  \n",
       "GROUP                                         \n",
       "0                 3.553571          6.870536  \n",
       "1                10.900000          1.080000  \n",
       "2                 0.981865          2.000000  "
      ]
     },
     "execution_count": 21,
     "metadata": {},
     "output_type": "execute_result"
    }
   ],
   "source": [
    "# Grouping the dataset on labels and getting the mean\n",
    "ccd_DAGrpK3 = ccd_DA_K3.groupby(['GROUP'])\n",
    "ccd_DAGrpK3.mean()"
   ]
  },
  {
   "cell_type": "code",
   "execution_count": 22,
   "metadata": {},
   "outputs": [
    {
     "data": {
      "text/plain": [
       "array([[<matplotlib.axes._subplots.AxesSubplot object at 0x7f9872e33f40>,\n",
       "        <matplotlib.axes._subplots.AxesSubplot object at 0x7f9872e73130>,\n",
       "        <matplotlib.axes._subplots.AxesSubplot object at 0x7f9872ea7130>,\n",
       "        <matplotlib.axes._subplots.AxesSubplot object at 0x7f9872eccfa0>],\n",
       "       [<matplotlib.axes._subplots.AxesSubplot object at 0x7f9877c53e50>,\n",
       "        <matplotlib.axes._subplots.AxesSubplot object at 0x7f9877c83d00>,\n",
       "        <matplotlib.axes._subplots.AxesSubplot object at 0x7f9877c8fca0>,\n",
       "        <matplotlib.axes._subplots.AxesSubplot object at 0x7f9877cc3730>]],\n",
       "      dtype=object)"
      ]
     },
     "execution_count": 22,
     "metadata": {},
     "output_type": "execute_result"
    },
    {
     "data": {
      "image/png": "[encoded data removed]",
      "text/plain": [
       "<Figure size 1080x720 with 8 Axes>"
      ]
     },
     "metadata": {
      "needs_background": "light"
     },
     "output_type": "display_data"
    }
   ],
   "source": [
    "# Plotting Box Plots for the Clusters/Groups\n",
    "ccd_scaled_K3.boxplot(by='GROUP', layout = (2,4),figsize=(15,10))"
   ]
  },
  {
   "cell_type": "markdown",
   "metadata": {},
   "source": [
    "### Observation:\n",
    "In these results, Credit Card customers have been segmented into 3 clusters. As per Box Plots most distinct clusters are shown by \"Avg_Credit_Limit\", \"Total_Credit_Cards\" and by \"Total_visits_online\". \n",
    "\n",
    "Cluster 2 contains lowest no of customers, count being 50. They have high Avg Credit limit, approx 9 credit cards and very high online visits. They have least visits and calls to bank.\n",
    "\n",
    "Cluster 0 contains max no of 386 customers. They have mediocre Avg Credit Limit, and approx 6 credit cards. They have highest visits to bank approx 3 and approx 2 calls to bank.\n",
    "\n",
    "Cluster 1 contains 224 customers. They have lowest Avg Credit Limit with approx 2 credit cards, They have avg of 1 visit to bank and avg of 3.5 online visits and have highest calls to bank with an avg of 6.87"
   ]
  },
  {
   "cell_type": "markdown",
   "metadata": {},
   "source": [
    "#### KMeans 4"
   ]
  },
  {
   "cell_type": "code",
   "execution_count": 23,
   "metadata": {},
   "outputs": [],
   "source": [
    "# Making a copy of Dataset\n",
    "ccd_scaled_K4=ccd_scaled.copy()\n",
    "ccd_DA_K4=ccd_DA.copy()"
   ]
  },
  {
   "cell_type": "code",
   "execution_count": 24,
   "metadata": {},
   "outputs": [
    {
     "name": "stdout",
     "output_type": "stream",
     "text": [
      "Groups Assigned : \n",
      "\n"
     ]
    },
    {
     "data": {
      "text/html": [
       "<div>\n",
       "<style scoped>\n",
       "    .dataframe tbody tr th:only-of-type {\n",
       "        vertical-align: middle;\n",
       "    }\n",
       "\n",
       "    .dataframe tbody tr th {\n",
       "        vertical-align: top;\n",
       "    }\n",
       "\n",
       "    .dataframe thead th {\n",
       "        text-align: right;\n",
       "    }\n",
       "</style>\n",
       "<table border=\"1\" class=\"dataframe\">\n",
       "  <thead>\n",
       "    <tr style=\"text-align: right;\">\n",
       "      <th></th>\n",
       "      <th>Avg_Credit_Limit</th>\n",
       "      <th>Total_Credit_Cards</th>\n",
       "      <th>Total_visits_bank</th>\n",
       "      <th>Total_visits_online</th>\n",
       "      <th>Total_calls_made</th>\n",
       "      <th>GROUP</th>\n",
       "    </tr>\n",
       "  </thead>\n",
       "  <tbody>\n",
       "    <tr>\n",
       "      <th>0</th>\n",
       "      <td>100000</td>\n",
       "      <td>2</td>\n",
       "      <td>1</td>\n",
       "      <td>1</td>\n",
       "      <td>0</td>\n",
       "      <td>0</td>\n",
       "    </tr>\n",
       "    <tr>\n",
       "      <th>1</th>\n",
       "      <td>50000</td>\n",
       "      <td>3</td>\n",
       "      <td>0</td>\n",
       "      <td>10</td>\n",
       "      <td>9</td>\n",
       "      <td>1</td>\n",
       "    </tr>\n",
       "    <tr>\n",
       "      <th>2</th>\n",
       "      <td>50000</td>\n",
       "      <td>7</td>\n",
       "      <td>1</td>\n",
       "      <td>3</td>\n",
       "      <td>4</td>\n",
       "      <td>0</td>\n",
       "    </tr>\n",
       "    <tr>\n",
       "      <th>3</th>\n",
       "      <td>30000</td>\n",
       "      <td>5</td>\n",
       "      <td>1</td>\n",
       "      <td>1</td>\n",
       "      <td>4</td>\n",
       "      <td>0</td>\n",
       "    </tr>\n",
       "    <tr>\n",
       "      <th>4</th>\n",
       "      <td>100000</td>\n",
       "      <td>6</td>\n",
       "      <td>0</td>\n",
       "      <td>12</td>\n",
       "      <td>3</td>\n",
       "      <td>2</td>\n",
       "    </tr>\n",
       "    <tr>\n",
       "      <th>5</th>\n",
       "      <td>20000</td>\n",
       "      <td>3</td>\n",
       "      <td>0</td>\n",
       "      <td>1</td>\n",
       "      <td>8</td>\n",
       "      <td>1</td>\n",
       "    </tr>\n",
       "    <tr>\n",
       "      <th>6</th>\n",
       "      <td>100000</td>\n",
       "      <td>5</td>\n",
       "      <td>0</td>\n",
       "      <td>11</td>\n",
       "      <td>2</td>\n",
       "      <td>2</td>\n",
       "    </tr>\n",
       "    <tr>\n",
       "      <th>7</th>\n",
       "      <td>15000</td>\n",
       "      <td>3</td>\n",
       "      <td>0</td>\n",
       "      <td>1</td>\n",
       "      <td>1</td>\n",
       "      <td>0</td>\n",
       "    </tr>\n",
       "    <tr>\n",
       "      <th>8</th>\n",
       "      <td>5000</td>\n",
       "      <td>2</td>\n",
       "      <td>0</td>\n",
       "      <td>2</td>\n",
       "      <td>2</td>\n",
       "      <td>1</td>\n",
       "    </tr>\n",
       "    <tr>\n",
       "      <th>9</th>\n",
       "      <td>3000</td>\n",
       "      <td>4</td>\n",
       "      <td>0</td>\n",
       "      <td>1</td>\n",
       "      <td>7</td>\n",
       "      <td>1</td>\n",
       "    </tr>\n",
       "  </tbody>\n",
       "</table>\n",
       "</div>"
      ],
      "text/plain": [
       "   Avg_Credit_Limit  Total_Credit_Cards  Total_visits_bank  \\\n",
       "0            100000                   2                  1   \n",
       "1             50000                   3                  0   \n",
       "2             50000                   7                  1   \n",
       "3             30000                   5                  1   \n",
       "4            100000                   6                  0   \n",
       "5             20000                   3                  0   \n",
       "6            100000                   5                  0   \n",
       "7             15000                   3                  0   \n",
       "8              5000                   2                  0   \n",
       "9              3000                   4                  0   \n",
       "\n",
       "   Total_visits_online  Total_calls_made  GROUP  \n",
       "0                    1                 0      0  \n",
       "1                   10                 9      1  \n",
       "2                    3                 4      0  \n",
       "3                    1                 4      0  \n",
       "4                   12                 3      2  \n",
       "5                    1                 8      1  \n",
       "6                   11                 2      2  \n",
       "7                    1                 1      0  \n",
       "8                    2                 2      1  \n",
       "9                    1                 7      1  "
      ]
     },
     "execution_count": 24,
     "metadata": {},
     "output_type": "execute_result"
    }
   ],
   "source": [
    "# KMeans with Cluster = 4\n",
    "final_model=KMeans(4)\n",
    "a=final_model.fit_transform(ccd_scaled_K4)\n",
    "prediction=final_model.predict(ccd_scaled_K4)\n",
    "\n",
    "# Silhoute_score\n",
    "score_4=metrics.silhouette_score(ccd_scaled_K4, prediction)\n",
    "\n",
    "#Append the prediction to the dataset\n",
    "ccd_DA_K4[\"GROUP\"] = prediction\n",
    "ccd_scaled_K4[\"GROUP\"] = prediction\n",
    "print(\"Groups Assigned : \\n\")\n",
    "ccd_DA_K4.head(10)"
   ]
  },
  {
   "cell_type": "code",
   "execution_count": 25,
   "metadata": {},
   "outputs": [
    {
     "data": {
      "text/plain": [
       "0.3556670619372605"
      ]
     },
     "execution_count": 25,
     "metadata": {},
     "output_type": "execute_result"
    }
   ],
   "source": [
    "# Silhoute Score\n",
    "score_4"
   ]
  },
  {
   "cell_type": "code",
   "execution_count": 26,
   "metadata": {},
   "outputs": [],
   "source": [
    "# Adding Sihouette score to the dataset\n",
    "SilScoreDf.loc[1]=[\"K Means 4\",score_4]"
   ]
  },
  {
   "cell_type": "code",
   "execution_count": 27,
   "metadata": {},
   "outputs": [
    {
     "data": {
      "text/html": [
       "<div>\n",
       "<style scoped>\n",
       "    .dataframe tbody tr th:only-of-type {\n",
       "        vertical-align: middle;\n",
       "    }\n",
       "\n",
       "    .dataframe tbody tr th {\n",
       "        vertical-align: top;\n",
       "    }\n",
       "\n",
       "    .dataframe thead th {\n",
       "        text-align: right;\n",
       "    }\n",
       "</style>\n",
       "<table border=\"1\" class=\"dataframe\">\n",
       "  <thead>\n",
       "    <tr style=\"text-align: right;\">\n",
       "      <th></th>\n",
       "      <th>Avg_Credit_Limit</th>\n",
       "      <th>Total_Credit_Cards</th>\n",
       "      <th>Total_visits_bank</th>\n",
       "      <th>Total_visits_online</th>\n",
       "      <th>Total_calls_made</th>\n",
       "    </tr>\n",
       "    <tr>\n",
       "      <th>GROUP</th>\n",
       "      <th></th>\n",
       "      <th></th>\n",
       "      <th></th>\n",
       "      <th></th>\n",
       "      <th></th>\n",
       "    </tr>\n",
       "  </thead>\n",
       "  <tbody>\n",
       "    <tr>\n",
       "      <th>0</th>\n",
       "      <td>35904.522613</td>\n",
       "      <td>5.522613</td>\n",
       "      <td>2.477387</td>\n",
       "      <td>0.969849</td>\n",
       "      <td>2.075377</td>\n",
       "    </tr>\n",
       "    <tr>\n",
       "      <th>1</th>\n",
       "      <td>12167.420814</td>\n",
       "      <td>2.393665</td>\n",
       "      <td>0.927602</td>\n",
       "      <td>3.574661</td>\n",
       "      <td>6.923077</td>\n",
       "    </tr>\n",
       "    <tr>\n",
       "      <th>2</th>\n",
       "      <td>141040.000000</td>\n",
       "      <td>8.740000</td>\n",
       "      <td>0.600000</td>\n",
       "      <td>10.900000</td>\n",
       "      <td>1.080000</td>\n",
       "    </tr>\n",
       "    <tr>\n",
       "      <th>3</th>\n",
       "      <td>31226.315789</td>\n",
       "      <td>5.478947</td>\n",
       "      <td>4.515789</td>\n",
       "      <td>1.010526</td>\n",
       "      <td>1.936842</td>\n",
       "    </tr>\n",
       "  </tbody>\n",
       "</table>\n",
       "</div>"
      ],
      "text/plain": [
       "       Avg_Credit_Limit  Total_Credit_Cards  Total_visits_bank  \\\n",
       "GROUP                                                            \n",
       "0          35904.522613            5.522613           2.477387   \n",
       "1          12167.420814            2.393665           0.927602   \n",
       "2         141040.000000            8.740000           0.600000   \n",
       "3          31226.315789            5.478947           4.515789   \n",
       "\n",
       "       Total_visits_online  Total_calls_made  \n",
       "GROUP                                         \n",
       "0                 0.969849          2.075377  \n",
       "1                 3.574661          6.923077  \n",
       "2                10.900000          1.080000  \n",
       "3                 1.010526          1.936842  "
      ]
     },
     "execution_count": 27,
     "metadata": {},
     "output_type": "execute_result"
    }
   ],
   "source": [
    "# Grouping the dataset on labels and getting the mean\n",
    "ccd_DAGrp = ccd_DA_K4.groupby(['GROUP'])\n",
    "ccd_DAGrp.mean()"
   ]
  },
  {
   "cell_type": "code",
   "execution_count": 28,
   "metadata": {},
   "outputs": [
    {
     "data": {
      "text/plain": [
       "<matplotlib.axes._subplots.AxesSubplot at 0x7f9877815f10>"
      ]
     },
     "execution_count": 28,
     "metadata": {},
     "output_type": "execute_result"
    },
    {
     "data": {
      "image/png": "[encoded data removed]",
      "text/plain": [
       "<Figure size 1080x360 with 1 Axes>"
      ]
     },
     "metadata": {
      "needs_background": "light"
     },
     "output_type": "display_data"
    }
   ],
   "source": [
    "# Plotting Scaled group dataset with mean for diff features\n",
    "ccd_scaled_K4.groupby(['GROUP']).mean().plot.bar(figsize=(15, 5))"
   ]
  },
  {
   "cell_type": "code",
   "execution_count": 29,
   "metadata": {},
   "outputs": [
    {
     "data": {
      "text/plain": [
       "array([[<matplotlib.axes._subplots.AxesSubplot object at 0x7f987b043fd0>,\n",
       "        <matplotlib.axes._subplots.AxesSubplot object at 0x7f987b070c40>,\n",
       "        <matplotlib.axes._subplots.AxesSubplot object at 0x7f987b1a4c10>,\n",
       "        <matplotlib.axes._subplots.AxesSubplot object at 0x7f987b1d4ac0>],\n",
       "       [<matplotlib.axes._subplots.AxesSubplot object at 0x7f987b202970>,\n",
       "        <matplotlib.axes._subplots.AxesSubplot object at 0x7f987b232820>,\n",
       "        <matplotlib.axes._subplots.AxesSubplot object at 0x7f987b2407c0>,\n",
       "        <matplotlib.axes._subplots.AxesSubplot object at 0x7f987b26dc70>]],\n",
       "      dtype=object)"
      ]
     },
     "execution_count": 29,
     "metadata": {},
     "output_type": "execute_result"
    },
    {
     "data": {
      "image/png": "[encoded data removed]",
      "text/plain": [
       "<Figure size 1080x720 with 8 Axes>"
      ]
     },
     "metadata": {
      "needs_background": "light"
     },
     "output_type": "display_data"
    }
   ],
   "source": [
    "# Plotting Box Plots for the Clusters/Groups\n",
    "ccd_scaled_K4.boxplot(by='GROUP', layout = (2,4),figsize=(15,10))"
   ]
  },
  {
   "cell_type": "markdown",
   "metadata": {},
   "source": [
    "### Observation:\n",
    "With K Means for 4, is not giving a distinct clusters, so K Means with 3 is better, also Silhoute Coeff of Cluster Value 3 is higher than with Cluster value of 4"
   ]
  },
  {
   "cell_type": "markdown",
   "metadata": {},
   "source": [
    "# Hierarchical Clustering"
   ]
  },
  {
   "cell_type": "code",
   "execution_count": 30,
   "metadata": {},
   "outputs": [],
   "source": [
    "# Making a copy of Dataset\n",
    "Hrccd_scaled=ccd_scaled.copy()\n",
    "Hrccd_DA=ccd_DA.copy()\n",
    "# Making a copy for using it with HR clustering Linkage Average\n",
    "Hrccd_scaled_HR_average=Hrccd_scaled.copy()\n",
    "Hrccd_DA_HR_average=Hrccd_DA.copy()"
   ]
  },
  {
   "cell_type": "code",
   "execution_count": 31,
   "metadata": {},
   "outputs": [
    {
     "data": {
      "text/html": [
       "<div>\n",
       "<style scoped>\n",
       "    .dataframe tbody tr th:only-of-type {\n",
       "        vertical-align: middle;\n",
       "    }\n",
       "\n",
       "    .dataframe tbody tr th {\n",
       "        vertical-align: top;\n",
       "    }\n",
       "\n",
       "    .dataframe thead th {\n",
       "        text-align: right;\n",
       "    }\n",
       "</style>\n",
       "<table border=\"1\" class=\"dataframe\">\n",
       "  <thead>\n",
       "    <tr style=\"text-align: right;\">\n",
       "      <th></th>\n",
       "      <th>Avg_Credit_Limit</th>\n",
       "      <th>Total_Credit_Cards</th>\n",
       "      <th>Total_visits_bank</th>\n",
       "      <th>Total_visits_online</th>\n",
       "      <th>Total_calls_made</th>\n",
       "    </tr>\n",
       "  </thead>\n",
       "  <tbody>\n",
       "    <tr>\n",
       "      <th>0</th>\n",
       "      <td>100000</td>\n",
       "      <td>2</td>\n",
       "      <td>1</td>\n",
       "      <td>1</td>\n",
       "      <td>0</td>\n",
       "    </tr>\n",
       "    <tr>\n",
       "      <th>1</th>\n",
       "      <td>50000</td>\n",
       "      <td>3</td>\n",
       "      <td>0</td>\n",
       "      <td>10</td>\n",
       "      <td>9</td>\n",
       "    </tr>\n",
       "    <tr>\n",
       "      <th>2</th>\n",
       "      <td>50000</td>\n",
       "      <td>7</td>\n",
       "      <td>1</td>\n",
       "      <td>3</td>\n",
       "      <td>4</td>\n",
       "    </tr>\n",
       "    <tr>\n",
       "      <th>3</th>\n",
       "      <td>30000</td>\n",
       "      <td>5</td>\n",
       "      <td>1</td>\n",
       "      <td>1</td>\n",
       "      <td>4</td>\n",
       "    </tr>\n",
       "    <tr>\n",
       "      <th>4</th>\n",
       "      <td>100000</td>\n",
       "      <td>6</td>\n",
       "      <td>0</td>\n",
       "      <td>12</td>\n",
       "      <td>3</td>\n",
       "    </tr>\n",
       "    <tr>\n",
       "      <th>...</th>\n",
       "      <td>...</td>\n",
       "      <td>...</td>\n",
       "      <td>...</td>\n",
       "      <td>...</td>\n",
       "      <td>...</td>\n",
       "    </tr>\n",
       "    <tr>\n",
       "      <th>655</th>\n",
       "      <td>99000</td>\n",
       "      <td>10</td>\n",
       "      <td>1</td>\n",
       "      <td>10</td>\n",
       "      <td>0</td>\n",
       "    </tr>\n",
       "    <tr>\n",
       "      <th>656</th>\n",
       "      <td>84000</td>\n",
       "      <td>10</td>\n",
       "      <td>1</td>\n",
       "      <td>13</td>\n",
       "      <td>2</td>\n",
       "    </tr>\n",
       "    <tr>\n",
       "      <th>657</th>\n",
       "      <td>145000</td>\n",
       "      <td>8</td>\n",
       "      <td>1</td>\n",
       "      <td>9</td>\n",
       "      <td>1</td>\n",
       "    </tr>\n",
       "    <tr>\n",
       "      <th>658</th>\n",
       "      <td>172000</td>\n",
       "      <td>10</td>\n",
       "      <td>1</td>\n",
       "      <td>15</td>\n",
       "      <td>0</td>\n",
       "    </tr>\n",
       "    <tr>\n",
       "      <th>659</th>\n",
       "      <td>167000</td>\n",
       "      <td>9</td>\n",
       "      <td>0</td>\n",
       "      <td>12</td>\n",
       "      <td>2</td>\n",
       "    </tr>\n",
       "  </tbody>\n",
       "</table>\n",
       "<p>660 rows × 5 columns</p>\n",
       "</div>"
      ],
      "text/plain": [
       "     Avg_Credit_Limit  Total_Credit_Cards  Total_visits_bank  \\\n",
       "0              100000                   2                  1   \n",
       "1               50000                   3                  0   \n",
       "2               50000                   7                  1   \n",
       "3               30000                   5                  1   \n",
       "4              100000                   6                  0   \n",
       "..                ...                 ...                ...   \n",
       "655             99000                  10                  1   \n",
       "656             84000                  10                  1   \n",
       "657            145000                   8                  1   \n",
       "658            172000                  10                  1   \n",
       "659            167000                   9                  0   \n",
       "\n",
       "     Total_visits_online  Total_calls_made  \n",
       "0                      1                 0  \n",
       "1                     10                 9  \n",
       "2                      3                 4  \n",
       "3                      1                 4  \n",
       "4                     12                 3  \n",
       "..                   ...               ...  \n",
       "655                   10                 0  \n",
       "656                   13                 2  \n",
       "657                    9                 1  \n",
       "658                   15                 0  \n",
       "659                   12                 2  \n",
       "\n",
       "[660 rows x 5 columns]"
      ]
     },
     "execution_count": 31,
     "metadata": {},
     "output_type": "execute_result"
    }
   ],
   "source": [
    "Hrccd_DA"
   ]
  },
  {
   "cell_type": "markdown",
   "metadata": {},
   "source": [
    "#### Hierarchical Clustering with linkage = average"
   ]
  },
  {
   "cell_type": "code",
   "execution_count": 32,
   "metadata": {},
   "outputs": [
    {
     "data": {
      "text/plain": [
       "AgglomerativeClustering(linkage='average', n_clusters=3)"
      ]
     },
     "execution_count": 32,
     "metadata": {},
     "output_type": "execute_result"
    }
   ],
   "source": [
    "# Performaing AgglomerativeClustering with 3 clusters\n",
    "AC_model = AgglomerativeClustering(n_clusters=3, affinity='euclidean', linkage='average')\n",
    "AC_model.fit(Hrccd_scaled_HR_average)"
   ]
  },
  {
   "cell_type": "code",
   "execution_count": 33,
   "metadata": {},
   "outputs": [
    {
     "name": "stdout",
     "output_type": "stream",
     "text": [
      "Silhouette Score-- 0.515922432650965\n"
     ]
    }
   ],
   "source": [
    "# Silhouette score\n",
    "score_HR_avg=metrics.silhouette_score(Hrccd_scaled_HR_average, AC_model.labels_)\n",
    "\n",
    "print(\"Silhouette Score--\",score_HR_avg)"
   ]
  },
  {
   "cell_type": "code",
   "execution_count": 34,
   "metadata": {},
   "outputs": [],
   "source": [
    "# Adding Silhouette score to the Dataset\n",
    "SilScoreDf.loc[2]=[\"Hier Clus Link Avg\",score_HR_avg]"
   ]
  },
  {
   "cell_type": "code",
   "execution_count": 35,
   "metadata": {},
   "outputs": [
    {
     "data": {
      "text/plain": [
       "0    387\n",
       "2    223\n",
       "1     50\n",
       "Name: labels, dtype: int64"
      ]
     },
     "execution_count": 35,
     "metadata": {},
     "output_type": "execute_result"
    }
   ],
   "source": [
    "# Adding Labels to th escaled and orig Dataset\n",
    "Hrccd_scaled_HR_average['labels'] = AC_model.labels_\n",
    "Hrccd_DA_HR_average['labels'] = AC_model.labels_\n",
    "\n",
    "# Getting Value Counts per Cluster\n",
    "Hrccd_scaled_HR_average['labels'].value_counts()"
   ]
  },
  {
   "cell_type": "code",
   "execution_count": 36,
   "metadata": {},
   "outputs": [
    {
     "data": {
      "text/html": [
       "<div>\n",
       "<style scoped>\n",
       "    .dataframe tbody tr th:only-of-type {\n",
       "        vertical-align: middle;\n",
       "    }\n",
       "\n",
       "    .dataframe tbody tr th {\n",
       "        vertical-align: top;\n",
       "    }\n",
       "\n",
       "    .dataframe thead th {\n",
       "        text-align: right;\n",
       "    }\n",
       "</style>\n",
       "<table border=\"1\" class=\"dataframe\">\n",
       "  <thead>\n",
       "    <tr style=\"text-align: right;\">\n",
       "      <th></th>\n",
       "      <th>Avg_Credit_Limit</th>\n",
       "      <th>Total_Credit_Cards</th>\n",
       "      <th>Total_visits_bank</th>\n",
       "      <th>Total_visits_online</th>\n",
       "      <th>Total_calls_made</th>\n",
       "    </tr>\n",
       "    <tr>\n",
       "      <th>labels</th>\n",
       "      <th></th>\n",
       "      <th></th>\n",
       "      <th></th>\n",
       "      <th></th>\n",
       "      <th></th>\n",
       "    </tr>\n",
       "  </thead>\n",
       "  <tbody>\n",
       "    <tr>\n",
       "      <th>0</th>\n",
       "      <td>33713.178295</td>\n",
       "      <td>5.511628</td>\n",
       "      <td>3.485788</td>\n",
       "      <td>0.984496</td>\n",
       "      <td>2.005168</td>\n",
       "    </tr>\n",
       "    <tr>\n",
       "      <th>1</th>\n",
       "      <td>141040.000000</td>\n",
       "      <td>8.740000</td>\n",
       "      <td>0.600000</td>\n",
       "      <td>10.900000</td>\n",
       "      <td>1.080000</td>\n",
       "    </tr>\n",
       "    <tr>\n",
       "      <th>2</th>\n",
       "      <td>12197.309417</td>\n",
       "      <td>2.403587</td>\n",
       "      <td>0.928251</td>\n",
       "      <td>3.560538</td>\n",
       "      <td>6.883408</td>\n",
       "    </tr>\n",
       "  </tbody>\n",
       "</table>\n",
       "</div>"
      ],
      "text/plain": [
       "        Avg_Credit_Limit  Total_Credit_Cards  Total_visits_bank  \\\n",
       "labels                                                            \n",
       "0           33713.178295            5.511628           3.485788   \n",
       "1          141040.000000            8.740000           0.600000   \n",
       "2           12197.309417            2.403587           0.928251   \n",
       "\n",
       "        Total_visits_online  Total_calls_made  \n",
       "labels                                         \n",
       "0                  0.984496          2.005168  \n",
       "1                 10.900000          1.080000  \n",
       "2                  3.560538          6.883408  "
      ]
     },
     "execution_count": 36,
     "metadata": {},
     "output_type": "execute_result"
    }
   ],
   "source": [
    "# Getting mean of the variables per cluster\n",
    "Hrccd_DA_HR_average.groupby(['labels']).mean()"
   ]
  },
  {
   "cell_type": "code",
   "execution_count": 37,
   "metadata": {},
   "outputs": [
    {
     "data": {
      "text/plain": [
       "<matplotlib.axes._subplots.AxesSubplot at 0x7f987b807250>"
      ]
     },
     "execution_count": 37,
     "metadata": {},
     "output_type": "execute_result"
    },
    {
     "data": {
      "image/png": "[encoded data removed]",
      "text/plain": [
       "<Figure size 1080x360 with 1 Axes>"
      ]
     },
     "metadata": {
      "needs_background": "light"
     },
     "output_type": "display_data"
    }
   ],
   "source": [
    "# Plotting Scaled group dataset with mean for diff features\n",
    "Hrccd_scaled_HR_average.groupby(['labels']).mean().plot.bar(figsize=(15, 5))"
   ]
  },
  {
   "cell_type": "code",
   "execution_count": 38,
   "metadata": {},
   "outputs": [
    {
     "data": {
      "text/plain": [
       "array([[<matplotlib.axes._subplots.AxesSubplot object at 0x7f987c153cd0>,\n",
       "        <matplotlib.axes._subplots.AxesSubplot object at 0x7f987c184be0>,\n",
       "        <matplotlib.axes._subplots.AxesSubplot object at 0x7f987c1b1040>,\n",
       "        <matplotlib.axes._subplots.AxesSubplot object at 0x7f987c1dc370>],\n",
       "       [<matplotlib.axes._subplots.AxesSubplot object at 0x7f987c2076d0>,\n",
       "        <matplotlib.axes._subplots.AxesSubplot object at 0x7f987c234a60>,\n",
       "        <matplotlib.axes._subplots.AxesSubplot object at 0x7f987c240a00>,\n",
       "        <matplotlib.axes._subplots.AxesSubplot object at 0x7f987c276280>]],\n",
       "      dtype=object)"
      ]
     },
     "execution_count": 38,
     "metadata": {},
     "output_type": "execute_result"
    },
    {
     "data": {
      "image/png": "[encoded data removed]",
      "text/plain": [
       "<Figure size 1080x720 with 8 Axes>"
      ]
     },
     "metadata": {
      "needs_background": "light"
     },
     "output_type": "display_data"
    }
   ],
   "source": [
    "# Plotting BoxPlots for all variables w.r.t to Clusters\n",
    "Hrccd_scaled_HR_average.boxplot(by='labels', layout = (2,4),figsize=(15,10))"
   ]
  },
  {
   "cell_type": "markdown",
   "metadata": {},
   "source": [
    "### Observations:\n",
    "Group 0: This group has the highest mean of Total Visits to Bank and lowest mean of Total Visits Online. For Avg_Credit_Limit, Total_Credit_Cards & Total_calls_made, this Group has mean lying in between Group 1 & 2\n",
    "\n",
    "Group 1: This group has the highest mean of Avg Credit Limit and Total Credit Cards. Has the Maximum mean no of Total Visits Online and has a clear segregartion of the cluster in this feature. This group has the least mean of total visits to bank. This group has a mean of approx 1 for Total Calls Made.\n",
    "\n",
    "Group2: This group has the highest mean of Total_Calls_Made and the lowest mean of Total_Credit_Cards. These 2 features clearly segregates this group. This group has the least mean for Avg_Credit_Limit. For Total_Visits_online & Total_Visits_bank, this group lie in between Group 0 & 1. "
   ]
  },
  {
   "cell_type": "markdown",
   "metadata": {},
   "source": [
    "#### Drawing Dendogram with Linkage = Average"
   ]
  },
  {
   "cell_type": "code",
   "execution_count": 39,
   "metadata": {},
   "outputs": [
    {
     "data": {
      "text/plain": [
       "0.8977080867389372"
      ]
     },
     "execution_count": 39,
     "metadata": {},
     "output_type": "execute_result"
    }
   ],
   "source": [
    "# Calculating Linkage for method \"average\"\n",
    "Hrccd_scaled_HR_average_link=Hrccd_scaled_HR_average.drop(['labels'],axis=1)\n",
    "Z_avg = linkage(Hrccd_scaled_HR_average_link, metric='euclidean', method='average')\n",
    "c_avg, coph_dists_avg = cophenet(Z_avg , pdist(Hrccd_scaled_HR_average_link))\n",
    "c_avg"
   ]
  },
  {
   "cell_type": "code",
   "execution_count": 40,
   "metadata": {},
   "outputs": [
    {
     "data": {
      "text/html": [
       "<div>\n",
       "<style scoped>\n",
       "    .dataframe tbody tr th:only-of-type {\n",
       "        vertical-align: middle;\n",
       "    }\n",
       "\n",
       "    .dataframe tbody tr th {\n",
       "        vertical-align: top;\n",
       "    }\n",
       "\n",
       "    .dataframe thead th {\n",
       "        text-align: right;\n",
       "    }\n",
       "</style>\n",
       "<table border=\"1\" class=\"dataframe\">\n",
       "  <thead>\n",
       "    <tr style=\"text-align: right;\">\n",
       "      <th></th>\n",
       "      <th>Method</th>\n",
       "      <th>Cophenetic Coeff</th>\n",
       "    </tr>\n",
       "  </thead>\n",
       "  <tbody>\n",
       "    <tr>\n",
       "      <th>0</th>\n",
       "      <td>Average</td>\n",
       "      <td>0.897708</td>\n",
       "    </tr>\n",
       "  </tbody>\n",
       "</table>\n",
       "</div>"
      ],
      "text/plain": [
       "    Method  Cophenetic Coeff\n",
       "0  Average          0.897708"
      ]
     },
     "execution_count": 40,
     "metadata": {},
     "output_type": "execute_result"
    }
   ],
   "source": [
    "# Adding Cophenitic coeff to the dataset for final comparision\n",
    "coph_df=pd.DataFrame({\"Method\": [\"Average\"],\"Cophenetic Coeff\":c_avg})\n",
    "coph_df"
   ]
  },
  {
   "cell_type": "code",
   "execution_count": 41,
   "metadata": {},
   "outputs": [
    {
     "data": {
      "image/png": "[encoded data removed]",
      "text/plain": [
       "<Figure size 1080x360 with 1 Axes>"
      ]
     },
     "metadata": {
      "needs_background": "light"
     },
     "output_type": "display_data"
    }
   ],
   "source": [
    "# Drawing Dendogram\n",
    "plt.figure(figsize=(15, 5))\n",
    "plt.title('Agglomerative Hierarchical Clustering Dendogram: Method - Average')\n",
    "plt.xlabel('Index')\n",
    "plt.ylabel('Dendogramic Distance')\n",
    "dendrogram(Z_avg, leaf_rotation=90.0,p=7,color_threshold=52,leaf_font_size=8,truncate_mode='level')\n",
    "plt.tight_layout()"
   ]
  },
  {
   "cell_type": "markdown",
   "metadata": {},
   "source": [
    "### Hierarchical Clustering with linkage = Single"
   ]
  },
  {
   "cell_type": "code",
   "execution_count": 42,
   "metadata": {},
   "outputs": [],
   "source": [
    "# Copying Dataset for this model\n",
    "Hrccd_scaled_HR_single=Hrccd_scaled.copy()\n",
    "Hrccd_DA_HR_single=Hrccd_DA.copy()"
   ]
  },
  {
   "cell_type": "code",
   "execution_count": 43,
   "metadata": {},
   "outputs": [
    {
     "name": "stdout",
     "output_type": "stream",
     "text": [
      "Silhouette Score-- 0.3742893091424411\n"
     ]
    }
   ],
   "source": [
    "# Executing AgglomerativeClustering with linkage single\n",
    "AC_model_single = AgglomerativeClustering(n_clusters=3, affinity='euclidean', linkage='single')\n",
    "AC_model_single.fit(Hrccd_scaled_HR_single)\n",
    "score_HR_single=metrics.silhouette_score(Hrccd_scaled_HR_single, AC_model_single.labels_)\n",
    "print(\"Silhouette Score--\",score_HR_single)"
   ]
  },
  {
   "cell_type": "code",
   "execution_count": 44,
   "metadata": {},
   "outputs": [],
   "source": [
    "# Adding Silhouette Score to Dataset\n",
    "SilScoreDf.loc[3]=[\"Hier Clus Link Single\",score_HR_single]"
   ]
  },
  {
   "cell_type": "code",
   "execution_count": 45,
   "metadata": {},
   "outputs": [
    {
     "data": {
      "text/plain": [
       "0    609\n",
       "2     50\n",
       "1      1\n",
       "Name: labels, dtype: int64"
      ]
     },
     "execution_count": 45,
     "metadata": {},
     "output_type": "execute_result"
    }
   ],
   "source": [
    "# Adding Cluster Labels to the dataset\n",
    "Hrccd_scaled_HR_single['labels'] = AC_model_single.labels_\n",
    "Hrccd_DA_HR_single['labels'] = AC_model_single.labels_\n",
    "Hrccd_scaled_HR_single['labels'].value_counts()"
   ]
  },
  {
   "cell_type": "code",
   "execution_count": 46,
   "metadata": {},
   "outputs": [
    {
     "data": {
      "text/html": [
       "<div>\n",
       "<style scoped>\n",
       "    .dataframe tbody tr th:only-of-type {\n",
       "        vertical-align: middle;\n",
       "    }\n",
       "\n",
       "    .dataframe tbody tr th {\n",
       "        vertical-align: top;\n",
       "    }\n",
       "\n",
       "    .dataframe thead th {\n",
       "        text-align: right;\n",
       "    }\n",
       "</style>\n",
       "<table border=\"1\" class=\"dataframe\">\n",
       "  <thead>\n",
       "    <tr style=\"text-align: right;\">\n",
       "      <th></th>\n",
       "      <th>Avg_Credit_Limit</th>\n",
       "      <th>Total_Credit_Cards</th>\n",
       "      <th>Total_visits_bank</th>\n",
       "      <th>Total_visits_online</th>\n",
       "      <th>Total_calls_made</th>\n",
       "    </tr>\n",
       "    <tr>\n",
       "      <th>labels</th>\n",
       "      <th></th>\n",
       "      <th></th>\n",
       "      <th></th>\n",
       "      <th></th>\n",
       "      <th></th>\n",
       "    </tr>\n",
       "  </thead>\n",
       "  <tbody>\n",
       "    <tr>\n",
       "      <th>0</th>\n",
       "      <td>25807.881773</td>\n",
       "      <td>4.377668</td>\n",
       "      <td>2.555008</td>\n",
       "      <td>1.912972</td>\n",
       "      <td>3.779967</td>\n",
       "    </tr>\n",
       "    <tr>\n",
       "      <th>1</th>\n",
       "      <td>50000.000000</td>\n",
       "      <td>3.000000</td>\n",
       "      <td>0.000000</td>\n",
       "      <td>10.000000</td>\n",
       "      <td>9.000000</td>\n",
       "    </tr>\n",
       "    <tr>\n",
       "      <th>2</th>\n",
       "      <td>141040.000000</td>\n",
       "      <td>8.740000</td>\n",
       "      <td>0.600000</td>\n",
       "      <td>10.900000</td>\n",
       "      <td>1.080000</td>\n",
       "    </tr>\n",
       "  </tbody>\n",
       "</table>\n",
       "</div>"
      ],
      "text/plain": [
       "        Avg_Credit_Limit  Total_Credit_Cards  Total_visits_bank  \\\n",
       "labels                                                            \n",
       "0           25807.881773            4.377668           2.555008   \n",
       "1           50000.000000            3.000000           0.000000   \n",
       "2          141040.000000            8.740000           0.600000   \n",
       "\n",
       "        Total_visits_online  Total_calls_made  \n",
       "labels                                         \n",
       "0                  1.912972          3.779967  \n",
       "1                 10.000000          9.000000  \n",
       "2                 10.900000          1.080000  "
      ]
     },
     "execution_count": 46,
     "metadata": {},
     "output_type": "execute_result"
    }
   ],
   "source": [
    "# Getting mean of the Clusters\n",
    "Hrccd_DA_HR_single.groupby(['labels']).mean()"
   ]
  },
  {
   "cell_type": "code",
   "execution_count": 47,
   "metadata": {},
   "outputs": [
    {
     "data": {
      "text/plain": [
       "<matplotlib.axes._subplots.AxesSubplot at 0x7f987c647a00>"
      ]
     },
     "execution_count": 47,
     "metadata": {},
     "output_type": "execute_result"
    },
    {
     "data": {
      "image/png": "[encoded data removed]",
      "text/plain": [
       "<Figure size 1080x360 with 1 Axes>"
      ]
     },
     "metadata": {
      "needs_background": "light"
     },
     "output_type": "display_data"
    }
   ],
   "source": [
    "# Plotting Scaled group dataset with mean for diff features\n",
    "Hrccd_scaled_HR_single.groupby(['labels']).mean().plot.bar(figsize=(15, 5))"
   ]
  },
  {
   "cell_type": "code",
   "execution_count": 48,
   "metadata": {},
   "outputs": [
    {
     "data": {
      "text/plain": [
       "array([[<matplotlib.axes._subplots.AxesSubplot object at 0x7f987d129fd0>,\n",
       "        <matplotlib.axes._subplots.AxesSubplot object at 0x7f985d4ceaf0>,\n",
       "        <matplotlib.axes._subplots.AxesSubplot object at 0x7f985d502ac0>,\n",
       "        <matplotlib.axes._subplots.AxesSubplot object at 0x7f985d533970>],\n",
       "       [<matplotlib.axes._subplots.AxesSubplot object at 0x7f985d563820>,\n",
       "        <matplotlib.axes._subplots.AxesSubplot object at 0x7f985d5946d0>,\n",
       "        <matplotlib.axes._subplots.AxesSubplot object at 0x7f985d5a1670>,\n",
       "        <matplotlib.axes._subplots.AxesSubplot object at 0x7f985d5ccb20>]],\n",
       "      dtype=object)"
      ]
     },
     "execution_count": 48,
     "metadata": {},
     "output_type": "execute_result"
    },
    {
     "data": {
      "image/png": "[encoded data removed]",
      "text/plain": [
       "<Figure size 1080x720 with 8 Axes>"
      ]
     },
     "metadata": {
      "needs_background": "light"
     },
     "output_type": "display_data"
    }
   ],
   "source": [
    "# Plotting BoxPlot for clustered dataset\n",
    "Hrccd_scaled_HR_single.boxplot(by='labels', layout = (2,4),figsize=(15,10))"
   ]
  },
  {
   "cell_type": "markdown",
   "metadata": {},
   "source": [
    "### Observations For Linkage=Single:\n",
    "Group 0: This group has the lowest mean of Avg_Credit_Limit and Total_visits_online, segregating this group. For Total_Visits_bank, Total_Credit_Cards & Total_calls_made, this Group has mean lying in between Group 1 & 2\n",
    "\n",
    "Group 1: This group has a single entry and the highest mean of Total_calls_made and lowest mean of Total_Vists_Bank and Total_Credit_Cards. For features Total_vistis_online and Avg_credit_limit, the mean lies in between Group 0 & 2.\n",
    "\n",
    "Group2: This group has the highest mean of Avg_credit_limit(segregates this group), Total_Credit_Cards(segregates this group), and Total_vistis_online. This group has lowest mean of Total_Calls_Made. For Total_vistis_bank, this group lie in between Group 0 & 1. "
   ]
  },
  {
   "cell_type": "markdown",
   "metadata": {},
   "source": [
    "#### Drawing Dendogram with Linkage = Single"
   ]
  },
  {
   "cell_type": "code",
   "execution_count": 49,
   "metadata": {},
   "outputs": [
    {
     "data": {
      "text/plain": [
       "0.7391220243806552"
      ]
     },
     "execution_count": 49,
     "metadata": {},
     "output_type": "execute_result"
    }
   ],
   "source": [
    "# Calculating Linkage for method \"single\"\n",
    "Hrccd_scaled_HR_single_link=Hrccd_scaled_HR_single.drop(['labels'],axis=1)\n",
    "Z_single = linkage(Hrccd_scaled_HR_single_link, metric='euclidean', method='single')\n",
    "c_single, coph_dists_single = cophenet(Z_single , pdist(Hrccd_scaled_HR_single_link))\n",
    "c_single"
   ]
  },
  {
   "cell_type": "code",
   "execution_count": 50,
   "metadata": {},
   "outputs": [],
   "source": [
    "# Adding Cophenitic Coeff to the DataSet for final comparision\n",
    "coph_df.loc[1]=[\"Single\",c_single]"
   ]
  },
  {
   "cell_type": "code",
   "execution_count": 51,
   "metadata": {},
   "outputs": [
    {
     "data": {
      "image/png": "[encoded data removed]",
      "text/plain": [
       "<Figure size 1080x360 with 1 Axes>"
      ]
     },
     "metadata": {
      "needs_background": "light"
     },
     "output_type": "display_data"
    }
   ],
   "source": [
    "# Drawing Dendogram\n",
    "plt.figure(figsize=(15, 5))\n",
    "plt.title('Agglomerative Hierarchical Clustering Dendogram: Method - Single')\n",
    "plt.xlabel('Index')\n",
    "plt.ylabel('Dendogramic Distance')\n",
    "dendrogram(Z_single, leaf_rotation=90.0,p=7,color_threshold=52,leaf_font_size=8,truncate_mode='level' )\n",
    "plt.tight_layout()"
   ]
  },
  {
   "cell_type": "markdown",
   "metadata": {},
   "source": [
    "### Hierarchical Clustering with linkage = Complete"
   ]
  },
  {
   "cell_type": "code",
   "execution_count": 52,
   "metadata": {},
   "outputs": [],
   "source": [
    "# Copying Dataset for this model\n",
    "Hrccd_scaled_HR_comp=Hrccd_scaled.copy()\n",
    "Hrccd_DA_HR_comp=Hrccd_DA.copy()"
   ]
  },
  {
   "cell_type": "code",
   "execution_count": 53,
   "metadata": {},
   "outputs": [
    {
     "name": "stdout",
     "output_type": "stream",
     "text": [
      "Silhouette Score-- 0.5026435522438492\n"
     ]
    }
   ],
   "source": [
    "# Executing AgglomerativeClustering with linkage 'complete'\n",
    "AC_model_comp = AgglomerativeClustering(n_clusters=3,affinity='euclidean',linkage='complete')\n",
    "AC_model_comp.fit(Hrccd_scaled_HR_comp)\n",
    "score_HR_comp=metrics.silhouette_score(Hrccd_scaled_HR_comp, AC_model_comp.labels_)\n",
    "print(\"Silhouette Score--\",score_HR_comp)"
   ]
  },
  {
   "cell_type": "code",
   "execution_count": 54,
   "metadata": {},
   "outputs": [],
   "source": [
    "# Adding Silhouette score to the Dataset\n",
    "SilScoreDf.loc[4]=[\"Hier Clus Link Complete\",score_HR_comp]"
   ]
  },
  {
   "cell_type": "code",
   "execution_count": 55,
   "metadata": {},
   "outputs": [
    {
     "data": {
      "text/plain": [
       "0    397\n",
       "2    213\n",
       "1     50\n",
       "Name: labels, dtype: int64"
      ]
     },
     "execution_count": 55,
     "metadata": {},
     "output_type": "execute_result"
    }
   ],
   "source": [
    "# Adding Cluster Labels to the dataset\n",
    "Hrccd_scaled_HR_comp['labels'] = AC_model_comp.labels_\n",
    "Hrccd_DA_HR_comp['labels'] = AC_model_comp.labels_\n",
    "Hrccd_scaled_HR_comp['labels'].value_counts()"
   ]
  },
  {
   "cell_type": "code",
   "execution_count": 56,
   "metadata": {},
   "outputs": [
    {
     "data": {
      "text/html": [
       "<div>\n",
       "<style scoped>\n",
       "    .dataframe tbody tr th:only-of-type {\n",
       "        vertical-align: middle;\n",
       "    }\n",
       "\n",
       "    .dataframe tbody tr th {\n",
       "        vertical-align: top;\n",
       "    }\n",
       "\n",
       "    .dataframe thead th {\n",
       "        text-align: right;\n",
       "    }\n",
       "</style>\n",
       "<table border=\"1\" class=\"dataframe\">\n",
       "  <thead>\n",
       "    <tr style=\"text-align: right;\">\n",
       "      <th></th>\n",
       "      <th>Avg_Credit_Limit</th>\n",
       "      <th>Total_Credit_Cards</th>\n",
       "      <th>Total_visits_bank</th>\n",
       "      <th>Total_visits_online</th>\n",
       "      <th>Total_calls_made</th>\n",
       "    </tr>\n",
       "    <tr>\n",
       "      <th>labels</th>\n",
       "      <th></th>\n",
       "      <th></th>\n",
       "      <th></th>\n",
       "      <th></th>\n",
       "      <th></th>\n",
       "    </tr>\n",
       "  </thead>\n",
       "  <tbody>\n",
       "    <tr>\n",
       "      <th>0</th>\n",
       "      <td>33151.133501</td>\n",
       "      <td>5.460957</td>\n",
       "      <td>3.405542</td>\n",
       "      <td>1.010076</td>\n",
       "      <td>2.060453</td>\n",
       "    </tr>\n",
       "    <tr>\n",
       "      <th>1</th>\n",
       "      <td>141040.000000</td>\n",
       "      <td>8.740000</td>\n",
       "      <td>0.600000</td>\n",
       "      <td>10.900000</td>\n",
       "      <td>1.080000</td>\n",
       "    </tr>\n",
       "    <tr>\n",
       "      <th>2</th>\n",
       "      <td>12234.741784</td>\n",
       "      <td>2.352113</td>\n",
       "      <td>0.957746</td>\n",
       "      <td>3.633803</td>\n",
       "      <td>7.009390</td>\n",
       "    </tr>\n",
       "  </tbody>\n",
       "</table>\n",
       "</div>"
      ],
      "text/plain": [
       "        Avg_Credit_Limit  Total_Credit_Cards  Total_visits_bank  \\\n",
       "labels                                                            \n",
       "0           33151.133501            5.460957           3.405542   \n",
       "1          141040.000000            8.740000           0.600000   \n",
       "2           12234.741784            2.352113           0.957746   \n",
       "\n",
       "        Total_visits_online  Total_calls_made  \n",
       "labels                                         \n",
       "0                  1.010076          2.060453  \n",
       "1                 10.900000          1.080000  \n",
       "2                  3.633803          7.009390  "
      ]
     },
     "execution_count": 56,
     "metadata": {},
     "output_type": "execute_result"
    }
   ],
   "source": [
    "# Getting mean of the clusters\n",
    "Hrccd_DA_HR_comp.groupby(['labels']).mean()"
   ]
  },
  {
   "cell_type": "code",
   "execution_count": 57,
   "metadata": {},
   "outputs": [
    {
     "data": {
      "text/plain": [
       "<matplotlib.axes._subplots.AxesSubplot at 0x7f985e84b130>"
      ]
     },
     "execution_count": 57,
     "metadata": {},
     "output_type": "execute_result"
    },
    {
     "data": {
      "image/png": "[encoded data removed]",
      "text/plain": [
       "<Figure size 1080x360 with 1 Axes>"
      ]
     },
     "metadata": {
      "needs_background": "light"
     },
     "output_type": "display_data"
    }
   ],
   "source": [
    "# Plotting Scaled group dataset with mean for diff features\n",
    "Hrccd_scaled_HR_comp.groupby(['labels']).mean().plot.bar(figsize=(15, 5))"
   ]
  },
  {
   "cell_type": "code",
   "execution_count": 58,
   "metadata": {},
   "outputs": [
    {
     "data": {
      "text/plain": [
       "array([[<matplotlib.axes._subplots.AxesSubplot object at 0x7f985ebeaca0>,\n",
       "        <matplotlib.axes._subplots.AxesSubplot object at 0x7f985ec70370>,\n",
       "        <matplotlib.axes._subplots.AxesSubplot object at 0x7f985ec8f730>,\n",
       "        <matplotlib.axes._subplots.AxesSubplot object at 0x7f985ecbba90>],\n",
       "       [<matplotlib.axes._subplots.AxesSubplot object at 0x7f985ece8df0>,\n",
       "        <matplotlib.axes._subplots.AxesSubplot object at 0x7f985ed20190>,\n",
       "        <matplotlib.axes._subplots.AxesSubplot object at 0x7f985ed2b130>,\n",
       "        <matplotlib.axes._subplots.AxesSubplot object at 0x7f985ed54910>]],\n",
       "      dtype=object)"
      ]
     },
     "execution_count": 58,
     "metadata": {},
     "output_type": "execute_result"
    },
    {
     "data": {
      "image/png": "[encoded data removed]",
      "text/plain": [
       "<Figure size 1080x720 with 8 Axes>"
      ]
     },
     "metadata": {
      "needs_background": "light"
     },
     "output_type": "display_data"
    }
   ],
   "source": [
    "# Plotting BoxPlot for clustered dataset\n",
    "Hrccd_scaled_HR_comp.boxplot(by='labels', layout = (2,4),figsize=(15,10))"
   ]
  },
  {
   "cell_type": "markdown",
   "metadata": {},
   "source": [
    "### Observations For Linkage=Complete:\n",
    "Group 0: This group has the highest mean of Total_visits_Bank and lowest mean of Total_visits_Online(Segregating this group). For Avg_Credit_Limit, Total_Credit_Cards & Total_calls_made, this Group has mean lying in between Group 1 & 2\n",
    "\n",
    "Group 1: This group has the highest mean of Avg_Credit_Limit and Total_Credit_Cards. Has the Maximum mean no of Total_Visits_Online and has a clear segregartion of the cluster in this feature. This group has the least mean of Total_visits_bank and Total_Calls_Made. This group has a mean of approx 1 for Total_calls_Made.\n",
    "\n",
    "Group2: This group has the highest mean of Total_Calls_Made and the lowest mean of Total_Credit_Cards. These 2 features clearly segregates this group. This group has the least mean for Avg_Credit_Limit. For Total_Visits_online(clearly segregates the cluster) & Total_Visits_bank, this group lie in between Group 0 & 1.  "
   ]
  },
  {
   "cell_type": "markdown",
   "metadata": {},
   "source": [
    "#### Drawing Dendogram with Linkage = Complete"
   ]
  },
  {
   "cell_type": "code",
   "execution_count": 59,
   "metadata": {},
   "outputs": [
    {
     "data": {
      "text/plain": [
       "0.8599730607972423"
      ]
     },
     "execution_count": 59,
     "metadata": {},
     "output_type": "execute_result"
    }
   ],
   "source": [
    "# Calculating Linkage for method \"complete\"\n",
    "Hrccd_scaled_HR_comp_link=Hrccd_scaled_HR_comp.drop(['labels'],axis=1)\n",
    "Z_comp = linkage(Hrccd_scaled_HR_comp_link, metric='euclidean', method='complete')\n",
    "c_comp, coph_dists_comp = cophenet(Z_comp , pdist(Hrccd_scaled_HR_comp_link))\n",
    "c_comp"
   ]
  },
  {
   "cell_type": "code",
   "execution_count": 60,
   "metadata": {},
   "outputs": [],
   "source": [
    "# Adding Cophenitic Coeff to the DataSet for final comparision\n",
    "coph_df.loc[2]=[\"Complete\",c_comp]"
   ]
  },
  {
   "cell_type": "code",
   "execution_count": 61,
   "metadata": {},
   "outputs": [
    {
     "data": {
      "image/png": "[encoded data removed]",
      "text/plain": [
       "<Figure size 1080x360 with 1 Axes>"
      ]
     },
     "metadata": {
      "needs_background": "light"
     },
     "output_type": "display_data"
    }
   ],
   "source": [
    "# Drawing Dendogram\n",
    "plt.figure(figsize=(15, 5))\n",
    "plt.title('Agglomerative Hierarchical Clustering Dendogram: Method - Complete')\n",
    "plt.xlabel('Index')\n",
    "plt.ylabel('Dendogramic Distance')\n",
    "dendrogram(Z_comp, leaf_rotation=90.0,p=7,color_threshold=52,leaf_font_size=8,truncate_mode='level' )\n",
    "plt.tight_layout()"
   ]
  },
  {
   "cell_type": "markdown",
   "metadata": {},
   "source": [
    "### Hierarchical Clustering with linkage = Ward"
   ]
  },
  {
   "cell_type": "code",
   "execution_count": 62,
   "metadata": {},
   "outputs": [],
   "source": [
    "# Copying Dataset for this model\n",
    "Hrccd_scaled_HR_ward=Hrccd_scaled.copy()\n",
    "Hrccd_DA_HR_ward=Hrccd_DA.copy()"
   ]
  },
  {
   "cell_type": "code",
   "execution_count": 63,
   "metadata": {},
   "outputs": [
    {
     "name": "stdout",
     "output_type": "stream",
     "text": [
      "Silhouette Score-- 0.5147639589977819\n"
     ]
    }
   ],
   "source": [
    "# Executing AgglomerativeClustering with linkage 'ward'\n",
    "AC_model_ward = AgglomerativeClustering(n_clusters=3,affinity='euclidean',linkage='ward')\n",
    "AC_model_ward.fit(Hrccd_scaled_HR_ward)\n",
    "score_HR_ward=metrics.silhouette_score(Hrccd_scaled_HR_ward, AC_model_ward.labels_)\n",
    "print(\"Silhouette Score--\",score_HR_ward)"
   ]
  },
  {
   "cell_type": "code",
   "execution_count": 64,
   "metadata": {},
   "outputs": [],
   "source": [
    "# Adding Silhouette score to the Dataset\n",
    "SilScoreDf.loc[5]=[\"Hier Clus Link Ward\",score_HR_ward]"
   ]
  },
  {
   "cell_type": "code",
   "execution_count": 65,
   "metadata": {},
   "outputs": [
    {
     "data": {
      "text/plain": [
       "0    385\n",
       "1    225\n",
       "2     50\n",
       "Name: labels, dtype: int64"
      ]
     },
     "execution_count": 65,
     "metadata": {},
     "output_type": "execute_result"
    }
   ],
   "source": [
    "# Adding Cluster Labels to the Dataset\n",
    "Hrccd_scaled_HR_ward['labels'] = AC_model_ward.labels_\n",
    "Hrccd_DA_HR_ward['labels'] = AC_model_ward.labels_\n",
    "Hrccd_scaled_HR_ward['labels'].value_counts()"
   ]
  },
  {
   "cell_type": "code",
   "execution_count": 66,
   "metadata": {},
   "outputs": [
    {
     "data": {
      "text/html": [
       "<div>\n",
       "<style scoped>\n",
       "    .dataframe tbody tr th:only-of-type {\n",
       "        vertical-align: middle;\n",
       "    }\n",
       "\n",
       "    .dataframe tbody tr th {\n",
       "        vertical-align: top;\n",
       "    }\n",
       "\n",
       "    .dataframe thead th {\n",
       "        text-align: right;\n",
       "    }\n",
       "</style>\n",
       "<table border=\"1\" class=\"dataframe\">\n",
       "  <thead>\n",
       "    <tr style=\"text-align: right;\">\n",
       "      <th></th>\n",
       "      <th>Avg_Credit_Limit</th>\n",
       "      <th>Total_Credit_Cards</th>\n",
       "      <th>Total_visits_bank</th>\n",
       "      <th>Total_visits_online</th>\n",
       "      <th>Total_calls_made</th>\n",
       "    </tr>\n",
       "    <tr>\n",
       "      <th>labels</th>\n",
       "      <th></th>\n",
       "      <th></th>\n",
       "      <th></th>\n",
       "      <th></th>\n",
       "      <th></th>\n",
       "    </tr>\n",
       "  </thead>\n",
       "  <tbody>\n",
       "    <tr>\n",
       "      <th>0</th>\n",
       "      <td>33851.948052</td>\n",
       "      <td>5.516883</td>\n",
       "      <td>3.493506</td>\n",
       "      <td>0.979221</td>\n",
       "      <td>1.994805</td>\n",
       "    </tr>\n",
       "    <tr>\n",
       "      <th>1</th>\n",
       "      <td>12151.111111</td>\n",
       "      <td>2.422222</td>\n",
       "      <td>0.937778</td>\n",
       "      <td>3.546667</td>\n",
       "      <td>6.857778</td>\n",
       "    </tr>\n",
       "    <tr>\n",
       "      <th>2</th>\n",
       "      <td>141040.000000</td>\n",
       "      <td>8.740000</td>\n",
       "      <td>0.600000</td>\n",
       "      <td>10.900000</td>\n",
       "      <td>1.080000</td>\n",
       "    </tr>\n",
       "  </tbody>\n",
       "</table>\n",
       "</div>"
      ],
      "text/plain": [
       "        Avg_Credit_Limit  Total_Credit_Cards  Total_visits_bank  \\\n",
       "labels                                                            \n",
       "0           33851.948052            5.516883           3.493506   \n",
       "1           12151.111111            2.422222           0.937778   \n",
       "2          141040.000000            8.740000           0.600000   \n",
       "\n",
       "        Total_visits_online  Total_calls_made  \n",
       "labels                                         \n",
       "0                  0.979221          1.994805  \n",
       "1                  3.546667          6.857778  \n",
       "2                 10.900000          1.080000  "
      ]
     },
     "execution_count": 66,
     "metadata": {},
     "output_type": "execute_result"
    }
   ],
   "source": [
    "# Getting mean of the clusters\n",
    "Hrccd_DA_HR_ward.groupby(['labels']).mean()"
   ]
  },
  {
   "cell_type": "code",
   "execution_count": 67,
   "metadata": {},
   "outputs": [
    {
     "data": {
      "text/plain": [
       "<matplotlib.axes._subplots.AxesSubplot at 0x7f985ee95100>"
      ]
     },
     "execution_count": 67,
     "metadata": {},
     "output_type": "execute_result"
    },
    {
     "data": {
      "image/png": "[encoded data removed]",
      "text/plain": [
       "<Figure size 1080x360 with 1 Axes>"
      ]
     },
     "metadata": {
      "needs_background": "light"
     },
     "output_type": "display_data"
    }
   ],
   "source": [
    "# Plotting Scaled group dataset with mean for diff features\n",
    "Hrccd_scaled_HR_ward.groupby(['labels']).mean().plot.bar(figsize=(15, 5))"
   ]
  },
  {
   "cell_type": "code",
   "execution_count": 68,
   "metadata": {},
   "outputs": [
    {
     "data": {
      "text/plain": [
       "array([[<matplotlib.axes._subplots.AxesSubplot object at 0x7f985e0f4040>,\n",
       "        <matplotlib.axes._subplots.AxesSubplot object at 0x7f985f3dad00>,\n",
       "        <matplotlib.axes._subplots.AxesSubplot object at 0x7f985f52e250>,\n",
       "        <matplotlib.axes._subplots.AxesSubplot object at 0x7f985f55a5b0>],\n",
       "       [<matplotlib.axes._subplots.AxesSubplot object at 0x7f985f586910>,\n",
       "        <matplotlib.axes._subplots.AxesSubplot object at 0x7f985f5b1c70>,\n",
       "        <matplotlib.axes._subplots.AxesSubplot object at 0x7f985f5bdc10>,\n",
       "        <matplotlib.axes._subplots.AxesSubplot object at 0x7f985f5f2430>]],\n",
       "      dtype=object)"
      ]
     },
     "execution_count": 68,
     "metadata": {},
     "output_type": "execute_result"
    },
    {
     "data": {
      "image/png": "[encoded data removed]",
      "text/plain": [
       "<Figure size 1080x720 with 8 Axes>"
      ]
     },
     "metadata": {
      "needs_background": "light"
     },
     "output_type": "display_data"
    }
   ],
   "source": [
    "# Plotting BoxPlots for clustered dataset\n",
    "Hrccd_scaled_HR_ward.boxplot(by='labels', layout = (2,4),figsize=(15,10))"
   ]
  },
  {
   "cell_type": "markdown",
   "metadata": {},
   "source": [
    "### Observations For Linkage=Ward:\n",
    "Group 0: This group has the highest mean of Total_visits_Bank and lowest mean of Total_visits_Online(Segregating this group). For Avg_Credit_Limit, Total_Credit_Cards(also Segregates this group) & Total_calls_made, this Group has mean lying in between Group 1 & 2\n",
    "\n",
    "Group 1: This group has the highest mean of Total_calls_made and lowest mean for Total_Credit_Cards. Noth these features segregate this group. For Total_Visits_Online,Avg_Credit_Limit and Total_visits_bank this group lie in between Group 0 & 2.\n",
    "\n",
    "Group2: This group has the highest mean of Avg_Credit_Limit, Total_Visits_Online and Total_Credit_Cards, and all these 3 features clearly segregates this cluster. This cluster has the lowest mean for Total_visits_bank and Total_calls_made."
   ]
  },
  {
   "cell_type": "markdown",
   "metadata": {},
   "source": [
    "#### Drawing Dendogram with Linkage = Ward"
   ]
  },
  {
   "cell_type": "code",
   "execution_count": 69,
   "metadata": {},
   "outputs": [
    {
     "data": {
      "text/plain": [
       "0.7415156284827493"
      ]
     },
     "execution_count": 69,
     "metadata": {},
     "output_type": "execute_result"
    }
   ],
   "source": [
    "# Calculating Linkage for method \"ward\"\n",
    "Hrccd_scaled_HR_ward_link=Hrccd_scaled_HR_ward.drop(['labels'],axis=1)\n",
    "Z_ward = linkage(Hrccd_scaled_HR_ward_link, metric='euclidean', method='ward')\n",
    "c_ward, coph_dists_ward = cophenet(Z_ward , pdist(Hrccd_scaled_HR_ward_link))\n",
    "c_ward"
   ]
  },
  {
   "cell_type": "code",
   "execution_count": 70,
   "metadata": {},
   "outputs": [],
   "source": [
    "# Adding Cophenitic Coeff to the DataSet for final comparision\n",
    "coph_df.loc[3]=[\"Ward\",c_ward]"
   ]
  },
  {
   "cell_type": "code",
   "execution_count": 71,
   "metadata": {},
   "outputs": [
    {
     "data": {
      "image/png": "[encoded data removed]",
      "text/plain": [
       "<Figure size 1080x360 with 1 Axes>"
      ]
     },
     "metadata": {
      "needs_background": "light"
     },
     "output_type": "display_data"
    }
   ],
   "source": [
    "# Drawing Dendogram\n",
    "plt.figure(figsize=(15, 5))\n",
    "plt.title('Agglomerative Hierarchical Clustering Dendogram: Method - Ward')\n",
    "plt.xlabel('Index')\n",
    "plt.ylabel('Dendogramic Distance')\n",
    "dendrogram(Z_ward, leaf_rotation=90.0,p=7,color_threshold=52,leaf_font_size=8,truncate_mode='level' )\n",
    "plt.tight_layout()"
   ]
  },
  {
   "cell_type": "markdown",
   "metadata": {},
   "source": [
    "#### Analysis of Clustering based on Silhouette Scores"
   ]
  },
  {
   "cell_type": "code",
   "execution_count": 72,
   "metadata": {},
   "outputs": [
    {
     "data": {
      "text/html": [
       "<div>\n",
       "<style scoped>\n",
       "    .dataframe tbody tr th:only-of-type {\n",
       "        vertical-align: middle;\n",
       "    }\n",
       "\n",
       "    .dataframe tbody tr th {\n",
       "        vertical-align: top;\n",
       "    }\n",
       "\n",
       "    .dataframe thead th {\n",
       "        text-align: right;\n",
       "    }\n",
       "</style>\n",
       "<table border=\"1\" class=\"dataframe\">\n",
       "  <thead>\n",
       "    <tr style=\"text-align: right;\">\n",
       "      <th></th>\n",
       "      <th>Method</th>\n",
       "      <th>Silhouette Score</th>\n",
       "    </tr>\n",
       "  </thead>\n",
       "  <tbody>\n",
       "    <tr>\n",
       "      <th>0</th>\n",
       "      <td>K Means 3</td>\n",
       "      <td>0.515718</td>\n",
       "    </tr>\n",
       "    <tr>\n",
       "      <th>1</th>\n",
       "      <td>K Means 4</td>\n",
       "      <td>0.355667</td>\n",
       "    </tr>\n",
       "    <tr>\n",
       "      <th>2</th>\n",
       "      <td>Hier Clus Link Avg</td>\n",
       "      <td>0.515922</td>\n",
       "    </tr>\n",
       "    <tr>\n",
       "      <th>3</th>\n",
       "      <td>Hier Clus Link Single</td>\n",
       "      <td>0.374289</td>\n",
       "    </tr>\n",
       "    <tr>\n",
       "      <th>4</th>\n",
       "      <td>Hier Clus Link Complete</td>\n",
       "      <td>0.502644</td>\n",
       "    </tr>\n",
       "    <tr>\n",
       "      <th>5</th>\n",
       "      <td>Hier Clus Link Ward</td>\n",
       "      <td>0.514764</td>\n",
       "    </tr>\n",
       "  </tbody>\n",
       "</table>\n",
       "</div>"
      ],
      "text/plain": [
       "                    Method  Silhouette Score\n",
       "0                K Means 3          0.515718\n",
       "1                K Means 4          0.355667\n",
       "2       Hier Clus Link Avg          0.515922\n",
       "3    Hier Clus Link Single          0.374289\n",
       "4  Hier Clus Link Complete          0.502644\n",
       "5      Hier Clus Link Ward          0.514764"
      ]
     },
     "execution_count": 72,
     "metadata": {},
     "output_type": "execute_result"
    }
   ],
   "source": [
    "# Total Silhoutte scores for K-means and Hieracrchical Clutering Techinques\n",
    "SilScoreDf"
   ]
  },
  {
   "cell_type": "markdown",
   "metadata": {},
   "source": [
    "### Observation:\n",
    "Hierachical Clustering with Link Average has the best Silhouette Coeff. "
   ]
  },
  {
   "cell_type": "markdown",
   "metadata": {},
   "source": [
    "### Comparing K-Means with Hierarchical Clusters\n",
    "K means 3 clustering was equivalent to the Hierarchical Clustering done with Linkage being Average. The cluster types were very similar to each other, difference being on only 1 datapoint.\n",
    "KMeans and Hierarchical Clustering(with Linkage=Average) were better than any other Clustering performed with other Linkage types.\n",
    "The above Dataset represents the same."
   ]
  },
  {
   "cell_type": "code",
   "execution_count": 73,
   "metadata": {},
   "outputs": [
    {
     "data": {
      "text/html": [
       "<div>\n",
       "<style scoped>\n",
       "    .dataframe tbody tr th:only-of-type {\n",
       "        vertical-align: middle;\n",
       "    }\n",
       "\n",
       "    .dataframe tbody tr th {\n",
       "        vertical-align: top;\n",
       "    }\n",
       "\n",
       "    .dataframe thead th {\n",
       "        text-align: right;\n",
       "    }\n",
       "</style>\n",
       "<table border=\"1\" class=\"dataframe\">\n",
       "  <thead>\n",
       "    <tr style=\"text-align: right;\">\n",
       "      <th></th>\n",
       "      <th>Method</th>\n",
       "      <th>Cophenetic Coeff</th>\n",
       "    </tr>\n",
       "  </thead>\n",
       "  <tbody>\n",
       "    <tr>\n",
       "      <th>0</th>\n",
       "      <td>Average</td>\n",
       "      <td>0.897708</td>\n",
       "    </tr>\n",
       "    <tr>\n",
       "      <th>1</th>\n",
       "      <td>Single</td>\n",
       "      <td>0.739122</td>\n",
       "    </tr>\n",
       "    <tr>\n",
       "      <th>2</th>\n",
       "      <td>Complete</td>\n",
       "      <td>0.859973</td>\n",
       "    </tr>\n",
       "    <tr>\n",
       "      <th>3</th>\n",
       "      <td>Ward</td>\n",
       "      <td>0.741516</td>\n",
       "    </tr>\n",
       "  </tbody>\n",
       "</table>\n",
       "</div>"
      ],
      "text/plain": [
       "     Method  Cophenetic Coeff\n",
       "0   Average          0.897708\n",
       "1    Single          0.739122\n",
       "2  Complete          0.859973\n",
       "3      Ward          0.741516"
      ]
     },
     "execution_count": 73,
     "metadata": {},
     "output_type": "execute_result"
    }
   ],
   "source": [
    "# Coephenitic Coefficients for different Linkage Types\n",
    "coph_df"
   ]
  },
  {
   "cell_type": "markdown",
   "metadata": {},
   "source": [
    "### Obervation:\n",
    "Linkage type Average has the best Cophenitic coeff, meaning the dedongram has the highest Corrlation Coeff between Euclidian and Dendogramic distances and is the most failthful deondogram to the original dataset."
   ]
  },
  {
   "cell_type": "markdown",
   "metadata": {},
   "source": [
    "### Task: Analysis the clusters formed, tell us how is one cluster different from another and answer all the key questions. "
   ]
  },
  {
   "cell_type": "code",
   "execution_count": 74,
   "metadata": {},
   "outputs": [
    {
     "data": {
      "text/html": [
       "<div>\n",
       "<style scoped>\n",
       "    .dataframe tbody tr th:only-of-type {\n",
       "        vertical-align: middle;\n",
       "    }\n",
       "\n",
       "    .dataframe tbody tr th {\n",
       "        vertical-align: top;\n",
       "    }\n",
       "\n",
       "    .dataframe thead th {\n",
       "        text-align: right;\n",
       "    }\n",
       "</style>\n",
       "<table border=\"1\" class=\"dataframe\">\n",
       "  <thead>\n",
       "    <tr style=\"text-align: right;\">\n",
       "      <th></th>\n",
       "      <th>Method</th>\n",
       "      <th>Silhouette Score</th>\n",
       "    </tr>\n",
       "  </thead>\n",
       "  <tbody>\n",
       "    <tr>\n",
       "      <th>0</th>\n",
       "      <td>K Means 3</td>\n",
       "      <td>0.515718</td>\n",
       "    </tr>\n",
       "    <tr>\n",
       "      <th>1</th>\n",
       "      <td>K Means 4</td>\n",
       "      <td>0.355667</td>\n",
       "    </tr>\n",
       "    <tr>\n",
       "      <th>2</th>\n",
       "      <td>Hier Clus Link Avg</td>\n",
       "      <td>0.515922</td>\n",
       "    </tr>\n",
       "    <tr>\n",
       "      <th>3</th>\n",
       "      <td>Hier Clus Link Single</td>\n",
       "      <td>0.374289</td>\n",
       "    </tr>\n",
       "    <tr>\n",
       "      <th>4</th>\n",
       "      <td>Hier Clus Link Complete</td>\n",
       "      <td>0.502644</td>\n",
       "    </tr>\n",
       "    <tr>\n",
       "      <th>5</th>\n",
       "      <td>Hier Clus Link Ward</td>\n",
       "      <td>0.514764</td>\n",
       "    </tr>\n",
       "  </tbody>\n",
       "</table>\n",
       "</div>"
      ],
      "text/plain": [
       "                    Method  Silhouette Score\n",
       "0                K Means 3          0.515718\n",
       "1                K Means 4          0.355667\n",
       "2       Hier Clus Link Avg          0.515922\n",
       "3    Hier Clus Link Single          0.374289\n",
       "4  Hier Clus Link Complete          0.502644\n",
       "5      Hier Clus Link Ward          0.514764"
      ]
     },
     "execution_count": 74,
     "metadata": {},
     "output_type": "execute_result"
    }
   ],
   "source": [
    "# Comparing KMeans with Hierarical Cluster with Linkage=Average\n",
    "SilScoreDf"
   ]
  },
  {
   "cell_type": "code",
   "execution_count": 75,
   "metadata": {},
   "outputs": [
    {
     "data": {
      "text/plain": [
       "0    387\n",
       "2    223\n",
       "1     50\n",
       "Name: labels, dtype: int64"
      ]
     },
     "execution_count": 75,
     "metadata": {},
     "output_type": "execute_result"
    }
   ],
   "source": [
    "# Hierarchical Cluster value counts\n",
    "Hrccd_scaled_HR_average['labels'].value_counts()"
   ]
  },
  {
   "cell_type": "code",
   "execution_count": 76,
   "metadata": {},
   "outputs": [
    {
     "data": {
      "text/plain": [
       "2    386\n",
       "0    224\n",
       "1     50\n",
       "Name: GROUP, dtype: int64"
      ]
     },
     "execution_count": 76,
     "metadata": {},
     "output_type": "execute_result"
    }
   ],
   "source": [
    "# Kmeans Cluster Value Counts \n",
    "ccd_DA_K3[\"GROUP\"].value_counts()"
   ]
  },
  {
   "cell_type": "code",
   "execution_count": 77,
   "metadata": {},
   "outputs": [
    {
     "data": {
      "text/html": [
       "<div>\n",
       "<style scoped>\n",
       "    .dataframe tbody tr th:only-of-type {\n",
       "        vertical-align: middle;\n",
       "    }\n",
       "\n",
       "    .dataframe tbody tr th {\n",
       "        vertical-align: top;\n",
       "    }\n",
       "\n",
       "    .dataframe thead th {\n",
       "        text-align: right;\n",
       "    }\n",
       "</style>\n",
       "<table border=\"1\" class=\"dataframe\">\n",
       "  <thead>\n",
       "    <tr style=\"text-align: right;\">\n",
       "      <th></th>\n",
       "      <th>Avg_Credit_Limit</th>\n",
       "      <th>Total_Credit_Cards</th>\n",
       "      <th>Total_visits_bank</th>\n",
       "      <th>Total_visits_online</th>\n",
       "      <th>Total_calls_made</th>\n",
       "    </tr>\n",
       "    <tr>\n",
       "      <th>labels</th>\n",
       "      <th></th>\n",
       "      <th></th>\n",
       "      <th></th>\n",
       "      <th></th>\n",
       "      <th></th>\n",
       "    </tr>\n",
       "  </thead>\n",
       "  <tbody>\n",
       "    <tr>\n",
       "      <th>0</th>\n",
       "      <td>33713.178295</td>\n",
       "      <td>5.511628</td>\n",
       "      <td>3.485788</td>\n",
       "      <td>0.984496</td>\n",
       "      <td>2.005168</td>\n",
       "    </tr>\n",
       "    <tr>\n",
       "      <th>1</th>\n",
       "      <td>141040.000000</td>\n",
       "      <td>8.740000</td>\n",
       "      <td>0.600000</td>\n",
       "      <td>10.900000</td>\n",
       "      <td>1.080000</td>\n",
       "    </tr>\n",
       "    <tr>\n",
       "      <th>2</th>\n",
       "      <td>12197.309417</td>\n",
       "      <td>2.403587</td>\n",
       "      <td>0.928251</td>\n",
       "      <td>3.560538</td>\n",
       "      <td>6.883408</td>\n",
       "    </tr>\n",
       "  </tbody>\n",
       "</table>\n",
       "</div>"
      ],
      "text/plain": [
       "        Avg_Credit_Limit  Total_Credit_Cards  Total_visits_bank  \\\n",
       "labels                                                            \n",
       "0           33713.178295            5.511628           3.485788   \n",
       "1          141040.000000            8.740000           0.600000   \n",
       "2           12197.309417            2.403587           0.928251   \n",
       "\n",
       "        Total_visits_online  Total_calls_made  \n",
       "labels                                         \n",
       "0                  0.984496          2.005168  \n",
       "1                 10.900000          1.080000  \n",
       "2                  3.560538          6.883408  "
      ]
     },
     "execution_count": 77,
     "metadata": {},
     "output_type": "execute_result"
    }
   ],
   "source": [
    "# Hierarchical Cluster Means \n",
    "Hrccd_DA_HR_average.groupby(['labels']).mean()"
   ]
  },
  {
   "cell_type": "code",
   "execution_count": 78,
   "metadata": {},
   "outputs": [
    {
     "data": {
      "text/html": [
       "<div>\n",
       "<style scoped>\n",
       "    .dataframe tbody tr th:only-of-type {\n",
       "        vertical-align: middle;\n",
       "    }\n",
       "\n",
       "    .dataframe tbody tr th {\n",
       "        vertical-align: top;\n",
       "    }\n",
       "\n",
       "    .dataframe thead th {\n",
       "        text-align: right;\n",
       "    }\n",
       "</style>\n",
       "<table border=\"1\" class=\"dataframe\">\n",
       "  <thead>\n",
       "    <tr style=\"text-align: right;\">\n",
       "      <th></th>\n",
       "      <th>Avg_Credit_Limit</th>\n",
       "      <th>Total_Credit_Cards</th>\n",
       "      <th>Total_visits_bank</th>\n",
       "      <th>Total_visits_online</th>\n",
       "      <th>Total_calls_made</th>\n",
       "    </tr>\n",
       "    <tr>\n",
       "      <th>GROUP</th>\n",
       "      <th></th>\n",
       "      <th></th>\n",
       "      <th></th>\n",
       "      <th></th>\n",
       "      <th></th>\n",
       "    </tr>\n",
       "  </thead>\n",
       "  <tbody>\n",
       "    <tr>\n",
       "      <th>0</th>\n",
       "      <td>12174.107143</td>\n",
       "      <td>2.410714</td>\n",
       "      <td>0.933036</td>\n",
       "      <td>3.553571</td>\n",
       "      <td>6.870536</td>\n",
       "    </tr>\n",
       "    <tr>\n",
       "      <th>1</th>\n",
       "      <td>141040.000000</td>\n",
       "      <td>8.740000</td>\n",
       "      <td>0.600000</td>\n",
       "      <td>10.900000</td>\n",
       "      <td>1.080000</td>\n",
       "    </tr>\n",
       "    <tr>\n",
       "      <th>2</th>\n",
       "      <td>33782.383420</td>\n",
       "      <td>5.515544</td>\n",
       "      <td>3.489637</td>\n",
       "      <td>0.981865</td>\n",
       "      <td>2.000000</td>\n",
       "    </tr>\n",
       "  </tbody>\n",
       "</table>\n",
       "</div>"
      ],
      "text/plain": [
       "       Avg_Credit_Limit  Total_Credit_Cards  Total_visits_bank  \\\n",
       "GROUP                                                            \n",
       "0          12174.107143            2.410714           0.933036   \n",
       "1         141040.000000            8.740000           0.600000   \n",
       "2          33782.383420            5.515544           3.489637   \n",
       "\n",
       "       Total_visits_online  Total_calls_made  \n",
       "GROUP                                         \n",
       "0                 3.553571          6.870536  \n",
       "1                10.900000          1.080000  \n",
       "2                 0.981865          2.000000  "
      ]
     },
     "execution_count": 78,
     "metadata": {},
     "output_type": "execute_result"
    }
   ],
   "source": [
    "# Kmeans Cluster Means \n",
    "ccd_DAGrpK3.mean()"
   ]
  },
  {
   "cell_type": "markdown",
   "metadata": {},
   "source": [
    "### Observation:\n",
    "Kmeans Clustering and Hierachical Clustering for Cluster value 3 are very similar. The difference is of only 1 record for Hierarchical Cluster group 1 & 0 and KMeans Clusters 0 & 2\n",
    "\n",
    "Kmeans Cluster 0 (count 224) is similar to Hierarchical Cluster 2 (count 223)\n",
    "\n",
    "Kmeans Cluster 1 (count 386) is similar to Hierarchical Cluster 0 (count 387)\n",
    "\n",
    "Kmeans Cluster 2 is similar to Hierarchical Cluster 1, count being 50 in both"
   ]
  },
  {
   "cell_type": "markdown",
   "metadata": {},
   "source": [
    "### Key Questions:"
   ]
  },
  {
   "cell_type": "markdown",
   "metadata": {},
   "source": [
    "#### How many different segments of customers are there?\n",
    "There are 3 different segments of the customers. \n"
   ]
  },
  {
   "cell_type": "markdown",
   "metadata": {},
   "source": [
    "#### How are these segments different from each other?\n",
    "Group One has low Avg_Credit_Limit, less Total_Credit_Cards, with a high mean of No of calls to Bank.\n",
    "\n",
    "Group Second has a medium Avg_Credit_Limit, with medium no of Total_Credit_Cards, with a high mean of No of visits to bank.\n",
    "\n",
    "Group Third has very High Avg_Credit_Limit and high no of Total_Credit_Cards with very High Online access to bank"
   ]
  },
  {
   "cell_type": "markdown",
   "metadata": {},
   "source": [
    "#### What are your recommendations to the bank on how to better market to and service these customers?\n",
    "Bank needs to improve the Customer Support for Group 0 (Having Highest avg for calls to bank) to improve the perception of the services and the bank and can also target to upsell as they have the lowest no of credit cards.\n",
    "\n",
    "Bank also need to improve services for Group 1(Having highest Avg no of Visits to Bank) to improve the perception of their support services and educate them to leverage Online services. This group also has the mediocre Avg Gredit and hence can be used to upsell Bank products.\n",
    "\n",
    "Bank can target group 3 (Having highest Avg Credit) to upsell more products."
   ]
  },
  {
   "cell_type": "code",
   "execution_count": null,
   "metadata": {},
   "outputs": [],
   "source": []
  }
 ],
 "metadata": {
  "kernelspec": {
   "display_name": "Python 3",
   "language": "python",
   "name": "python3"
  },
  "language_info": {
   "codemirror_mode": {
    "name": "ipython",
    "version": 3
   },
   "file_extension": ".py",
   "mimetype": "text/x-python",
   "name": "python",
   "nbconvert_exporter": "python",
   "pygments_lexer": "ipython3",
   "version": "3.8.2"
  }
 },
 "nbformat": 4,
 "nbformat_minor": 4
}
